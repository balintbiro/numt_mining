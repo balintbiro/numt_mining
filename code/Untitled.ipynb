{
 "cells": [
  {
   "cell_type": "code",
   "execution_count": 1,
   "id": "fe99414e",
   "metadata": {},
   "outputs": [],
   "source": [
    "import os\n",
    "import pandas as pd"
   ]
  },
  {
   "cell_type": "code",
   "execution_count": 2,
   "id": "2fd1eb26",
   "metadata": {},
   "outputs": [
    {
     "name": "stdout",
     "output_type": "stream",
     "text": [
      "._mm.csv\n"
     ]
    }
   ],
   "source": [
    "parent_dir=os.path.join('/Volumes/motilin/balint/numt/mice_strains_numt/gene_ids/')\n",
    "dfs=pd.Series(os.listdir('/Volumes/motilin/balint/numt/mice_strains_numt/gene_ids/')).apply(\n",
    "lambda filename: pd.read_csv(parent_dir+filename) if filename.count('.')==1 else print(filename))\n",
    "dfs.index=pd.Series(os.listdir('/Volumes/motilin/balint/numt/mice_strains_numt/gene_ids/')).apply(\n",
    "    lambda filename:filename[:-4])\n",
    "dfs=dfs.drop('._mm')"
   ]
  },
  {
   "cell_type": "code",
   "execution_count": 3,
   "id": "b55a2a45",
   "metadata": {},
   "outputs": [],
   "source": [
    "def get_unique_genes(df):\n",
    "    global unique_genes\n",
    "    unique_genes+=list(df['values'].unique())\n",
    "    \n",
    "unique_genes=[]\n",
    "dfs.apply(get_unique_genes)\n",
    "unique_genes=pd.Series(unique_genes)"
   ]
  },
  {
   "cell_type": "code",
   "execution_count": 5,
   "id": "0d9ed9b9",
   "metadata": {},
   "outputs": [
    {
     "data": {
      "text/plain": [
       "Nckap5     16\n",
       "Zdhhc3     16\n",
       "Angpt1     16\n",
       "Gpr68      16\n",
       "Naaa       16\n",
       "Ptprn2     16\n",
       "Ces1f      16\n",
       "Stxbp4     16\n",
       "Notch4     16\n",
       "Prmt8      16\n",
       "Dysf       16\n",
       "Fry        16\n",
       "Mrc1       16\n",
       "Asxl3      16\n",
       "Kctd3      16\n",
       "Lrp3       16\n",
       "Dlg2       16\n",
       "Ptprd      16\n",
       "Tbx20      16\n",
       "Fhad1      16\n",
       "Cep295     16\n",
       "Esrrg      16\n",
       "Smyd3      16\n",
       "Dytn       16\n",
       "Gm20594    16\n",
       "Nedd4l     16\n",
       "Zfp804b    16\n",
       "Atg7       16\n",
       "App        16\n",
       "dtype: int64"
      ]
     },
     "execution_count": 5,
     "metadata": {},
     "output_type": "execute_result"
    }
   ],
   "source": [
    "gene_frequencies=unique_genes.value_counts()\n",
    "gene_frequencies[gene_frequencies==16]"
   ]
  },
  {
   "cell_type": "code",
   "execution_count": null,
   "id": "3eb27798",
   "metadata": {},
   "outputs": [],
   "source": []
  }
 ],
 "metadata": {
  "kernelspec": {
   "display_name": "Python 3 (ipykernel)",
   "language": "python",
   "name": "python3"
  },
  "language_info": {
   "codemirror_mode": {
    "name": "ipython",
    "version": 3
   },
   "file_extension": ".py",
   "mimetype": "text/x-python",
   "name": "python",
   "nbconvert_exporter": "python",
   "pygments_lexer": "ipython3",
   "version": "3.9.7"
  }
 },
 "nbformat": 4,
 "nbformat_minor": 5
}
