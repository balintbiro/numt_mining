{
 "cells": [
  {
   "cell_type": "code",
   "execution_count": 1,
   "id": "05f6f4d9",
   "metadata": {},
   "outputs": [],
   "source": [
    "#import required modules\n",
    "import os\n",
    "import numpy as np\n",
    "import pandas as pd\n",
    "import seaborn as sns\n",
    "from Bio import SeqIO\n",
    "import matplotlib.pyplot as plt\n",
    "from scipy.stats import pearsonr"
   ]
  },
  {
   "cell_type": "code",
   "execution_count": 2,
   "id": "92221477",
   "metadata": {},
   "outputs": [],
   "source": [
    "#get mitochondrial genome informations\n",
    "mtdnas=pd.read_csv('../../data/organelles.csv',index_col=0)\n",
    "mtdnas=mtdnas.loc[['Mus musculus LP/J','Mus musculus C3H/HeJ','Mus musculus BALB/cJ','Mus musculus A/J',\n",
    "                  'Mus musculus castaneus CAST/EiJ','Mus musculus NOD/ShiLtJ','Mus musculus domesticus AKR/J',\n",
    "                  'Mus musculus domesticus WSB/EiJ','Mus musculus DBA/2J','Mus musculus 129S1/SvImJ',\n",
    "                  'Mus musculus musculus PWK/PhJ','Mus musculus CBA/J','Mus musculus NZO/HiLtJ',\n",
    "                  'Mus musculus FVB/NJ','Mus musculus C57BL/6NJ','Mus spretus SPRET/EiJ']]\n",
    "mtdnas=mtdnas[~mtdnas.index.duplicated(keep='first')]\n",
    "mtdnas.index=pd.Series(mtdnas.index.values).apply(lambda name:name.split(' ')[-1].lower().replace('/',''))"
   ]
  },
  {
   "cell_type": "code",
   "execution_count": 3,
   "id": "84a75376",
   "metadata": {
    "scrolled": true
   },
   "outputs": [
    {
     "data": {
      "text/plain": [
       "Mus_musculus_lpj                score      eg2_value        e_value g_id ...\n",
       "Mus_musculus_c3hhej             score      eg2_value        e_value g_id ...\n",
       "Mus_musculus_balbcj             score      eg2_value        e_value g_id ...\n",
       "Mus_musculus_aj                 score  eg2_value   e_value g_id   g_start...\n",
       "Mus_musculus_casteij            score      eg2_value        e_value g_id ...\n",
       "Mus_musculus_nodshiltj          score      eg2_value        e_value g_id ...\n",
       "Mus_musculus_akrj               score      eg2_value        e_value g_id ...\n",
       "Mus_musculus_wsbeij             score      eg2_value        e_value g_id ...\n",
       "Mus_musculus_dba2j              score      eg2_value        e_value g_id ...\n",
       "Mus_musculus_129s1svimj         score      eg2_value        e_value g_id ...\n",
       "Mus_musculus_pwkphj             score      eg2_value        e_value g_id ...\n",
       "Mus_musculus_cbaj               score      eg2_value        e_value g_id ...\n",
       "Mus_musculus_fvbnj              score      eg2_value        e_value g_id ...\n",
       "Mus_musculus_c57bl6nj           score      eg2_value        e_value g_id ...\n",
       "Mus_musculus_nzohiltj           score      eg2_value        e_value g_id ...\n",
       "Mus_musculus_spreteij           score      eg2_value        e_value g_id ...\n",
       "dtype: object"
      ]
     },
     "execution_count": 3,
     "metadata": {},
     "output_type": "execute_result"
    }
   ],
   "source": [
    "#load numts csv files\n",
    "def read_dfs(filename):\n",
    "    try:\n",
    "        df=pd.read_csv(f'/Volumes/motilin/balint/numt/mice_strains_numt/csvs/{filename}')\n",
    "        return df\n",
    "    except:\n",
    "        return np.nan\n",
    "    \n",
    "numts=pd.Series(os.listdir('/Volumes/motilin/balint/numt/mice_strains_numt/csvs/')).apply(read_dfs)\n",
    "numts.index=pd.Series(os.listdir('/Volumes/motilin/balint/numt/mice_strains_numt/csvs/')).apply(lambda filename:filename[:-10])\n",
    "numts=numts.dropna()\n",
    "numts=numts.drop('Mus_musculus')\n",
    "numts"
   ]
  },
  {
   "cell_type": "code",
   "execution_count": 4,
   "id": "c395b683",
   "metadata": {},
   "outputs": [
    {
     "data": {
      "text/plain": [
       "Mus_musculus_casteij            score      eg2_value        e_value g_id ...\n",
       "Mus_musculus_spreteij           score      eg2_value        e_value g_id ...\n",
       "Mus_musculus_pwkphj             score      eg2_value        e_value g_id ...\n",
       "Mus_musculus_wsbeij             score      eg2_value        e_value g_id ...\n",
       "Mus_musculus_lpj                score      eg2_value        e_value g_id ...\n",
       "Mus_musculus_c3hhej             score      eg2_value        e_value g_id ...\n",
       "Mus_musculus_balbcj             score      eg2_value        e_value g_id ...\n",
       "Mus_musculus_aj                 score  eg2_value   e_value g_id   g_start...\n",
       "Mus_musculus_nodshiltj          score      eg2_value        e_value g_id ...\n",
       "Mus_musculus_akrj               score      eg2_value        e_value g_id ...\n",
       "Mus_musculus_dba2j              score      eg2_value        e_value g_id ...\n",
       "Mus_musculus_129s1svimj         score      eg2_value        e_value g_id ...\n",
       "Mus_musculus_cbaj               score      eg2_value        e_value g_id ...\n",
       "Mus_musculus_nzohiltj           score      eg2_value        e_value g_id ...\n",
       "Mus_musculus_fvbnj              score      eg2_value        e_value g_id ...\n",
       "Mus_musculus_c57bl6nj           score      eg2_value        e_value g_id ...\n",
       "dtype: object"
      ]
     },
     "execution_count": 4,
     "metadata": {},
     "output_type": "execute_result"
    }
   ],
   "source": [
    "#set order\n",
    "dfs=numts.loc[['Mus_musculus_casteij','Mus_musculus_spreteij', 'Mus_musculus_pwkphj','Mus_musculus_wsbeij',\n",
    "         'Mus_musculus_lpj', 'Mus_musculus_c3hhej', 'Mus_musculus_balbcj',\n",
    "       'Mus_musculus_aj', \n",
    "       'Mus_musculus_nodshiltj', 'Mus_musculus_akrj',\n",
    "        'Mus_musculus_dba2j',\n",
    "       'Mus_musculus_129s1svimj', \n",
    "       'Mus_musculus_cbaj', 'Mus_musculus_nzohiltj', 'Mus_musculus_fvbnj',\n",
    "       'Mus_musculus_c57bl6nj']]\n",
    "dfs"
   ]
  },
  {
   "cell_type": "code",
   "execution_count": 5,
   "id": "d0aec109",
   "metadata": {},
   "outputs": [],
   "source": [
    "#sliding window\n",
    "#sliding window\n",
    "def sliding_window(numts_df,step_size):\n",
    "    global row_tracker\n",
    "    global column_tracker\n",
    "    global indexer\n",
    "    indexer+=1\n",
    "    mt_size=int(mtdnas.loc[dfs.index.values[indexer].split('_')[-1]]['Size(Mb)']*1000000)\n",
    "    window_size=int(mt_size/10)\n",
    "    numts_df=numts_df.sort_values(by='mt_start')\n",
    "    numts_df=numts_df.loc[numts_df['mt_start']<mt_size-1]\n",
    "    ranges=numts_df.apply(lambda row: list(np.arange(row['mt_start'],(row['mt_start']+row['mt_length']))),axis=1)\n",
    "    merged=[]\n",
    "    for array in ranges:\n",
    "        if type(array)==list:\n",
    "            merged+=array\n",
    "    merged=pd.Series(merged)\n",
    "    bp_counts=merged.value_counts().sort_index(ascending=True)\n",
    "    bp_counts=pd.Series(np.zeros(mt_size)).combine(bp_counts,max,fill_value=0)\n",
    "    summation=sum(bp_counts)\n",
    "    bp_involved=[]\n",
    "    for i in np.arange(0,len(bp_counts),step_size):\n",
    "        bp_involved.append((sum(bp_counts[i:i+window_size])/summation)*100)\n",
    "    return bp_involved\n",
    "\n",
    "indexer=-1\n",
    "bps_involved=dfs.apply(sliding_window, args=(1,))"
   ]
  },
  {
   "cell_type": "code",
   "execution_count": 6,
   "id": "da928e35",
   "metadata": {},
   "outputs": [],
   "source": [
    "bps_involved=bps_involved.apply(lambda row:pd.Series(row))\n",
    "bps_involved=bps_involved.dropna(axis=1).T\n",
    "bps_involved.columns=pd.Series(bps_involved.columns).apply(lambda strain:strain.split('_')[-1])"
   ]
  },
  {
   "cell_type": "code",
   "execution_count": 10,
   "id": "78b4832b",
   "metadata": {},
   "outputs": [
    {
     "data": {
      "image/png": "[encoded data removed]",
      "text/plain": [
       "<Figure size 720x720 with 4 Axes>"
      ]
     },
     "metadata": {},
     "output_type": "display_data"
    }
   ],
   "source": [
    "sns.set(font_scale=1)\n",
    "heatmap=sns.clustermap(bps_involved.corr(),cmap='flare',\n",
    "                  tree_kws=dict(linewidths=2))\n",
    "fil=np.tril(np.ones_like(bps_involved.corr()))\n",
    "values=heatmap.ax_heatmap.collections[0].get_array().reshape(bps_involved.corr().shape)\n",
    "new_values=np.ma.array(values, mask=fil)\n",
    "heatmap.ax_heatmap.collections[0].set_array(new_values)\n",
    "heatmap.savefig('../../results/numts_bp_corr.png',dpi=200)"
   ]
  },
  {
   "cell_type": "code",
   "execution_count": null,
   "id": "75832041",
   "metadata": {},
   "outputs": [],
   "source": []
  }
 ],
 "metadata": {
  "kernelspec": {
   "display_name": "Python 3 (ipykernel)",
   "language": "python",
   "name": "python3"
  },
  "language_info": {
   "codemirror_mode": {
    "name": "ipython",
    "version": 3
   },
   "file_extension": ".py",
   "mimetype": "text/x-python",
   "name": "python",
   "nbconvert_exporter": "python",
   "pygments_lexer": "ipython3",
   "version": "3.9.7"
  }
 },
 "nbformat": 4,
 "nbformat_minor": 5
}
