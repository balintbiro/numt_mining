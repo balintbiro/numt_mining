{
 "cells": [
  {
   "cell_type": "code",
   "execution_count": 43,
   "id": "9ff6ac4d",
   "metadata": {},
   "outputs": [],
   "source": [
    "#import modules\n",
    "import os\n",
    "import math\n",
    "import numpy as np\n",
    "import pandas as pd\n",
    "import matplotlib.pyplot as plt\n",
    "from scipy.stats import pearsonr, spearmanr"
   ]
  },
  {
   "cell_type": "code",
   "execution_count": 2,
   "id": "ea888cc1",
   "metadata": {},
   "outputs": [],
   "source": [
    "#read csv files\n",
    "input_dir=os.path.join(r'Z:\\balint\\numt\\ensembl_mammalian_numts/csvs/')\n",
    "dataframes=pd.Series(os.listdir(r'Z:\\balint\\numt\\ensembl_mammalian_numts/csvs/')).apply(\n",
    "    lambda file: pd.read_csv(input_dir+file))\n",
    "#add indnices\n",
    "dataframes.index=pd.Series(os.listdir(r'Z:\\balint\\numt\\ensembl_mammalian_numts/csvs/')).apply(\n",
    "    lambda filename:filename.split('.')[0][:-23])"
   ]
  },
  {
   "cell_type": "code",
   "execution_count": 3,
   "id": "29765287",
   "metadata": {},
   "outputs": [
    {
     "data": {
      "text/plain": [
       "Ailuropoda_melanoleuca    115642\n",
       "Aotus_nancymaae           469034\n",
       "Balaenoptera_musculus     513240\n",
       "Bison_bison_bison         297542\n",
       "Bos_grunniens             291657\n",
       "                           ...  \n",
       "Ursus_americanus          165386\n",
       "Ursus_maritimus            90824\n",
       "Vicugna_pacos             197728\n",
       "Vombatus_ursinus          110790\n",
       "Vulpes_vulpes             243995\n",
       "Length: 82, dtype: int64"
      ]
     },
     "execution_count": 3,
     "metadata": {},
     "output_type": "execute_result"
    }
   ],
   "source": [
    "length_of_numts=dataframes.apply(lambda df: sum(df['g_length']))\n",
    "length_of_numts"
   ]
  },
  {
   "cell_type": "code",
   "execution_count": 4,
   "id": "60832231",
   "metadata": {},
   "outputs": [
    {
     "data": {
      "text/plain": [
       "Ailuropoda_melanoleuca    258\n",
       "Aotus_nancymaae           636\n",
       "Balaenoptera_musculus     417\n",
       "Bison_bison_bison         543\n",
       "Bos_grunniens             462\n",
       "                         ... \n",
       "Ursus_americanus          579\n",
       "Ursus_maritimus           168\n",
       "Vicugna_pacos             269\n",
       "Vombatus_ursinus          105\n",
       "Vulpes_vulpes             475\n",
       "Length: 82, dtype: int64"
      ]
     },
     "execution_count": 4,
     "metadata": {},
     "output_type": "execute_result"
    }
   ],
   "source": [
    "number_of_numts=dataframes.apply(lambda df: len(df['g_length']))\n",
    "number_of_numts"
   ]
  },
  {
   "cell_type": "code",
   "execution_count": 5,
   "id": "662bf458",
   "metadata": {},
   "outputs": [
    {
     "data": {
      "text/plain": [
       "Ailuropoda_melanoleuca     4240\n",
       "Aotus_nancymaae           10432\n",
       "Balaenoptera_musculus     13752\n",
       "Bison_bison_bison         16318\n",
       "Bos_grunniens             11009\n",
       "                          ...  \n",
       "Ursus_americanus           4062\n",
       "Ursus_maritimus           17016\n",
       "Vicugna_pacos             16651\n",
       "Vombatus_ursinus          16995\n",
       "Vulpes_vulpes              6763\n",
       "Length: 82, dtype: int64"
      ]
     },
     "execution_count": 5,
     "metadata": {},
     "output_type": "execute_result"
    }
   ],
   "source": [
    "max_numt_sizes=dataframes.apply(lambda df: max(df['g_length']))\n",
    "max_numt_sizes"
   ]
  },
  {
   "cell_type": "code",
   "execution_count": 6,
   "id": "0913956e",
   "metadata": {},
   "outputs": [
    {
     "data": {
      "text/plain": [
       "Ailuropoda_melanoleuca    48\n",
       "Aotus_nancymaae           38\n",
       "Balaenoptera_musculus     52\n",
       "Bison_bison_bison         40\n",
       "Bos_grunniens             46\n",
       "                          ..\n",
       "Ursus_americanus          46\n",
       "Ursus_maritimus           40\n",
       "Vicugna_pacos             53\n",
       "Vombatus_ursinus          47\n",
       "Vulpes_vulpes             42\n",
       "Length: 82, dtype: int64"
      ]
     },
     "execution_count": 6,
     "metadata": {},
     "output_type": "execute_result"
    }
   ],
   "source": [
    "min_numt_sizes=dataframes.apply(lambda df: min(df['g_length']))\n",
    "min_numt_sizes"
   ]
  },
  {
   "cell_type": "code",
   "execution_count": 7,
   "id": "57ddc127",
   "metadata": {},
   "outputs": [
    {
     "data": {
      "text/plain": [
       "Ailuropoda_melanoleuca     448.224806\n",
       "Aotus_nancymaae            737.474843\n",
       "Balaenoptera_musculus     1230.791367\n",
       "Bison_bison_bison          547.959484\n",
       "Bos_grunniens              631.292208\n",
       "                             ...     \n",
       "Ursus_americanus           285.640760\n",
       "Ursus_maritimus            540.619048\n",
       "Vicugna_pacos              735.048327\n",
       "Vombatus_ursinus          1055.142857\n",
       "Vulpes_vulpes              513.673684\n",
       "Length: 82, dtype: float64"
      ]
     },
     "execution_count": 7,
     "metadata": {},
     "output_type": "execute_result"
    }
   ],
   "source": [
    "avg_numt_lengths=dataframes.apply(lambda df: np.mean(df['g_length']))\n",
    "avg_numt_lengths"
   ]
  },
  {
   "cell_type": "code",
   "execution_count": 8,
   "id": "f188ebdf",
   "metadata": {},
   "outputs": [
    {
     "data": {
      "text/plain": [
       "Ailuropoda_melanoleuca    280.5\n",
       "Aotus_nancymaae           347.5\n",
       "Balaenoptera_musculus     639.0\n",
       "Bison_bison_bison         307.0\n",
       "Bos_grunniens             349.0\n",
       "                          ...  \n",
       "Ursus_americanus          225.0\n",
       "Ursus_maritimus           251.0\n",
       "Vicugna_pacos             459.0\n",
       "Vombatus_ursinus          140.0\n",
       "Vulpes_vulpes             271.0\n",
       "Length: 82, dtype: float64"
      ]
     },
     "execution_count": 8,
     "metadata": {},
     "output_type": "execute_result"
    }
   ],
   "source": [
    "med_numt_lengths=dataframes.apply(lambda df: np.median(df['g_length']))\n",
    "med_numt_lengths"
   ]
  },
  {
   "cell_type": "code",
   "execution_count": 10,
   "id": "5272bda7",
   "metadata": {},
   "outputs": [
    {
     "data": {
      "text/plain": [
       "Ailuropoda_melanoleuca    2.444\n",
       "Aotus_nancymaae           2.862\n",
       "Balaenoptera_musculus     2.375\n",
       "Bison_bison_bison         2.828\n",
       "Bos_grunniens             2.833\n",
       "                          ...  \n",
       "Ursus_americanus          2.352\n",
       "Ursus_maritimus           2.330\n",
       "Vicugna_pacos             2.120\n",
       "Vombatus_ursinus          3.487\n",
       "Vulpes_vulpes             2.422\n",
       "Length: 82, dtype: float64"
      ]
     },
     "execution_count": 10,
     "metadata": {},
     "output_type": "execute_result"
    }
   ],
   "source": [
    "#get genome sizes in Mb\n",
    "sizes=pd.Series([2.444,2.862,2.375,2.828,2.833,2.674,2.645,2.716,2.898,2.169,2.398,2.397,2.923,3.454,2.723,2.848,\n",
    "       2.391,2.938,3.286,2.400,3.632,2.363,2.236,2.716,2.426,3.045,2.618,3.100,2.479,2.864,2.801,2.971,\n",
    "      2.949,3.062,2.457,2.487,2.287,3.598,2.356,3.070,2.474,2.553,2.728,2.475,2.552,3.061,2.681,2.844,\n",
    "      3.075,2.231,2.996,1.859,2.737,2.628,2.298,2.578,2.409,3.052,3.050,2.870,2.512,3.193,2.372,2.512,\n",
    "      3.065,2.412,2.798,2.648,2.977,3.038,2.651,3.087,2.879,2.423,2.502,2.137,2.379,2.352,2.330,2.120,\n",
    "      3.487,2.422])\n",
    "sizes.index=pd.Series(os.listdir(r'Z:\\balint\\numt\\ensembl_mammalian_numts/csvs/')).apply(\n",
    "    lambda filename:filename.split('.')[0][:-23])\n",
    "sizes"
   ]
  },
  {
   "cell_type": "code",
   "execution_count": 11,
   "id": "656c4117",
   "metadata": {},
   "outputs": [
    {
     "data": {
      "image/png": "[encoded data removed]",
      "text/plain": [
       "<Figure size 648x360 with 2 Axes>"
      ]
     },
     "metadata": {},
     "output_type": "display_data"
    }
   ],
   "source": [
    "figs_dir=os.path.join(r'Z:\\balint\\numt\\ensembl_mammalian_numts\\figs/')\n",
    "plt.style.use('fivethirtyeight')\n",
    "fig,axs=plt.subplots(1,2,sharex='row', sharey=False, figsize=(9,5))\n",
    "axs[0].plot(sizes.apply(lambda size:math.log2(size)),\n",
    "            length_of_numts.apply(lambda length:math.log2(length)),'o')\n",
    "axs[0].set_ylabel('Log2 (cumulative numt sizes (Kb))')\n",
    "axs[0].set_title(f'corr: {np.round(np.corrcoef(sizes,length_of_numts)[1][0],decimals=4)}')\n",
    "\n",
    "axs[1].plot(sizes.apply(lambda size:math.log2(size)),\n",
    "            number_of_numts.apply(lambda number:math.log2(number)),'o')\n",
    "axs[1].set_ylabel('Log2 (number of numts)')\n",
    "axs[1].set_title(f'corr: {np.round(np.corrcoef(sizes,number_of_numts)[1][0],decimals=4)}')\n",
    "fig.text(0.4,0.0001, 'Log2 (genome size (Mb))', fontsize=14)\n",
    "plt.tight_layout()\n",
    "plt.savefig(figs_dir+'g_size_numt_count_corr.png',dpi=200)"
   ]
  },
  {
   "cell_type": "code",
   "execution_count": 16,
   "id": "b26a81a2",
   "metadata": {},
   "outputs": [
    {
     "data": {
      "image/png": "[encoded data removed]",
      "text/plain": [
       "<Figure size 648x360 with 2 Axes>"
      ]
     },
     "metadata": {},
     "output_type": "display_data"
    }
   ],
   "source": [
    "plt.style.use('fivethirtyeight')\n",
    "fig,axs=plt.subplots(1,2,sharex='row', sharey=False, figsize=(9,5))\n",
    "axs[0].plot(sizes,length_of_numts,'o')\n",
    "axs[0].set_ylabel('cumulative numt sizes (Kb)')\n",
    "axs[0].set_title(f'corr: {np.round(np.corrcoef(sizes,length_of_numts)[1][0],decimals=4)}')\n",
    "m0, b0 = np.polyfit(sizes,length_of_numts, 1)\n",
    "axs[0].plot(sizes, m0*sizes + b0)\n",
    "\n",
    "axs[1].plot(sizes,number_of_numts,'o')\n",
    "axs[1].set_ylabel('number of numts')\n",
    "axs[1].set_title(f'corr: {np.round(np.corrcoef(sizes,number_of_numts)[1][0],decimals=4)}')\n",
    "m1, b1 = np.polyfit(sizes,number_of_numts, 1)\n",
    "axs[1].plot(sizes, m1*sizes + b1)\n",
    "fig.text(0.4,0.0001, 'genome size (Mb)', fontsize=14)\n",
    "plt.tight_layout()\n",
    "plt.savefig(figs_dir+'g_size_numt_count_corr.png',dpi=200)"
   ]
  },
  {
   "cell_type": "code",
   "execution_count": 25,
   "id": "d33a9b1c",
   "metadata": {},
   "outputs": [],
   "source": [
    "#add organism name to subdfs and merge the subdfs\n",
    "def add_organism_name(organism_name):\n",
    "    df=dataframes[organism_name]\n",
    "    df['organism_name']=len(df)*[organism_name]\n",
    "    \n",
    "pd.Series(dataframes.index.values).apply(add_organism_name)\n",
    "\n",
    "merged_df=pd.concat(dataframes.tolist())\n",
    "merged_df=merged_df.set_index('organism_name')\n",
    "merged_df['organism_name']=merged_df.index.values"
   ]
  },
  {
   "cell_type": "code",
   "execution_count": 29,
   "id": "beab1606",
   "metadata": {},
   "outputs": [],
   "source": [
    "#function for calculating identity\n",
    "def seq_identity(row):\n",
    "    g_seq=row['g_sequence'].upper()\n",
    "    mt_seq=row['mt_sequence'].upper()\n",
    "    identity=[]\n",
    "    pd.Series(np.arange(0,len(g_seq),1)).apply(\n",
    "        lambda index:identity.append(1) if g_seq[index]==mt_seq[index] else identity.append(0))\n",
    "    identity=(sum(identity)/len(g_seq))*100\n",
    "    return identity\n",
    "#add identity column to df\n",
    "merged_df['identity']=merged_df.apply(seq_identity,axis=1)\n",
    "\n"
   ]
  },
  {
   "cell_type": "code",
   "execution_count": 53,
   "id": "15b9149d",
   "metadata": {},
   "outputs": [
    {
     "data": {
      "image/png": "[encoded data removed]",
      "text/plain": [
       "<Figure size 648x360 with 2 Axes>"
      ]
     },
     "metadata": {},
     "output_type": "display_data"
    }
   ],
   "source": [
    "def identity_central_tendencies(organism_name):\n",
    "    \n",
    "    global numt_size_means\n",
    "    global numt_size_medians\n",
    "    global identity_means\n",
    "    global identity_medians\n",
    "    \n",
    "    subdf=merged_df.loc[merged_df['organism_name']==organism_name]\n",
    "    \n",
    "    numt_size_means.append(np.mean(subdf['g_length']))\n",
    "    numt_size_medians.append(np.median(subdf['g_length']))\n",
    "    identity_means.append(np.mean(subdf['identity']))\n",
    "    identity_medians.append(np.median(subdf['identity']))\n",
    "    \n",
    "numt_size_means=[]\n",
    "numt_size_medians=[]\n",
    "identity_means=[]\n",
    "identity_medians=[]\n",
    "\n",
    "pd.Series(np.unique(merged_df.index.values)).apply(identity_central_tendencies)\n",
    "\n",
    "numt_size_means=pd.Series(numt_size_means)\n",
    "numt_size_medians=pd.Series(numt_size_medians)\n",
    "identity_means=pd.Series(identity_means)\n",
    "identity_medians=pd.Series(identity_medians)\n",
    "\n",
    "fig,axs=plt.subplots(1,2,figsize=(9,5),sharey=True)\n",
    "axs[0].plot(numt_size_means,identity_means,'o')\n",
    "m0, b0 = np.polyfit(numt_size_means,identity_means, 1)\n",
    "axs[0].plot(numt_size_means, m0*numt_size_means + b0)\n",
    "axs[0].set_title(f'corr: {np.round(spearmanr(numt_size_means,identity_means)[0],2)}')\n",
    "axs[0].set_xlabel('mean numt size')\n",
    "axs[0].set_ylabel('Identity')\n",
    "\n",
    "axs[1].plot(numt_size_medians,identity_medians,'o')\n",
    "m1, b1 = np.polyfit(numt_size_medians,identity_medians, 1)\n",
    "axs[1].plot(numt_size_medians, m1*numt_size_medians + b1)\n",
    "axs[1].set_title(f'corr: {np.round(spearmanr(numt_size_medians,identity_medians)[0],2)}')\n",
    "axs[1].set_xlabel('median numt size')\n",
    "plt.tight_layout()\n",
    "plt.savefig(figs_dir+'numt_vs_identity.png',dpi=200)"
   ]
  },
  {
   "cell_type": "code",
   "execution_count": 93,
   "id": "254ea357",
   "metadata": {},
   "outputs": [
    {
     "data": {
      "text/html": [
       "<div>\n",
       "<style scoped>\n",
       "    .dataframe tbody tr th:only-of-type {\n",
       "        vertical-align: middle;\n",
       "    }\n",
       "\n",
       "    .dataframe tbody tr th {\n",
       "        vertical-align: top;\n",
       "    }\n",
       "\n",
       "    .dataframe thead th {\n",
       "        text-align: right;\n",
       "    }\n",
       "</style>\n",
       "<table border=\"1\" class=\"dataframe\">\n",
       "  <thead>\n",
       "    <tr style=\"text-align: right;\">\n",
       "      <th></th>\n",
       "      <th>score</th>\n",
       "      <th>eg2_value</th>\n",
       "      <th>e_value</th>\n",
       "      <th>g_id</th>\n",
       "      <th>g_start</th>\n",
       "      <th>mt_start</th>\n",
       "      <th>g_length</th>\n",
       "      <th>mt_length</th>\n",
       "      <th>g_strand</th>\n",
       "      <th>mt_strand</th>\n",
       "      <th>g_size</th>\n",
       "      <th>g_sequence</th>\n",
       "      <th>mt_sequence</th>\n",
       "      <th>organism_name</th>\n",
       "    </tr>\n",
       "  </thead>\n",
       "  <tbody>\n",
       "    <tr>\n",
       "      <th>0</th>\n",
       "      <td>2464</td>\n",
       "      <td>0.000000e+00</td>\n",
       "      <td>0.000000e+00</td>\n",
       "      <td>4</td>\n",
       "      <td>79920566</td>\n",
       "      <td>12487</td>\n",
       "      <td>2871</td>\n",
       "      <td>2869</td>\n",
       "      <td>+</td>\n",
       "      <td>+</td>\n",
       "      <td>156860686</td>\n",
       "      <td>AAGTACAATAGTAGTTGCAGGAATCTTTCTACTGGTCCGATTTCAC...</td>\n",
       "      <td>AAGTACAATAGTAGTTGCAGGAATTTTCCTACTGGTCCGATTCCAC...</td>\n",
       "      <td>Mus_musculus</td>\n",
       "    </tr>\n",
       "    <tr>\n",
       "      <th>1</th>\n",
       "      <td>731</td>\n",
       "      <td>0.000000e+00</td>\n",
       "      <td>0.000000e+00</td>\n",
       "      <td>5</td>\n",
       "      <td>84766087</td>\n",
       "      <td>4846</td>\n",
       "      <td>1588</td>\n",
       "      <td>1594</td>\n",
       "      <td>+</td>\n",
       "      <td>+</td>\n",
       "      <td>151758149</td>\n",
       "      <td>AAAATAATTACCCACCACACATGCTTCAAAAATAACTTTATCCTTc...</td>\n",
       "      <td>AAAataataactcaCCAAACAAAAACTAAACCCAACCTAATATTTT...</td>\n",
       "      <td>Mus_musculus</td>\n",
       "    </tr>\n",
       "    <tr>\n",
       "      <th>2</th>\n",
       "      <td>695</td>\n",
       "      <td>0.000000e+00</td>\n",
       "      <td>0.000000e+00</td>\n",
       "      <td>4</td>\n",
       "      <td>9958624</td>\n",
       "      <td>3198</td>\n",
       "      <td>1326</td>\n",
       "      <td>1316</td>\n",
       "      <td>+</td>\n",
       "      <td>+</td>\n",
       "      <td>156860686</td>\n",
       "      <td>TTATATCAGTCCTATTAATAAGCAGGTCACTTTCTCTACAAATATG...</td>\n",
       "      <td>TTTTATCAGTTCTATTAATAAATGGATCCTACTCTCTACAAACACT...</td>\n",
       "      <td>Mus_musculus</td>\n",
       "    </tr>\n",
       "    <tr>\n",
       "      <th>3</th>\n",
       "      <td>618</td>\n",
       "      <td>2.300000e-277</td>\n",
       "      <td>3.800000e-281</td>\n",
       "      <td>5</td>\n",
       "      <td>7326298</td>\n",
       "      <td>14714</td>\n",
       "      <td>1002</td>\n",
       "      <td>1000</td>\n",
       "      <td>+</td>\n",
       "      <td>+</td>\n",
       "      <td>151758149</td>\n",
       "      <td>GCCATAGTAATTTTTCATCTCCTTTTTCCTTCACAAAACAGGATCA...</td>\n",
       "      <td>GCCCTAGCAATCGTTCACCTCCTCTT-CCTCCACGAAACAGGATCA...</td>\n",
       "      <td>Mus_musculus</td>\n",
       "    </tr>\n",
       "    <tr>\n",
       "      <th>4</th>\n",
       "      <td>459</td>\n",
       "      <td>1.100000e-201</td>\n",
       "      <td>1.900000e-205</td>\n",
       "      <td>8</td>\n",
       "      <td>102750360</td>\n",
       "      <td>14921</td>\n",
       "      <td>1183</td>\n",
       "      <td>1214</td>\n",
       "      <td>+</td>\n",
       "      <td>+</td>\n",
       "      <td>130127694</td>\n",
       "      <td>AATGCCCTCCATACCCTACCCCACATTAAACCAGAATGATACTTCC...</td>\n",
       "      <td>AATCCACTAAACACCCCACCCCATATTAAACCCGAATGATATTTCC...</td>\n",
       "      <td>Mus_musculus</td>\n",
       "    </tr>\n",
       "    <tr>\n",
       "      <th>...</th>\n",
       "      <td>...</td>\n",
       "      <td>...</td>\n",
       "      <td>...</td>\n",
       "      <td>...</td>\n",
       "      <td>...</td>\n",
       "      <td>...</td>\n",
       "      <td>...</td>\n",
       "      <td>...</td>\n",
       "      <td>...</td>\n",
       "      <td>...</td>\n",
       "      <td>...</td>\n",
       "      <td>...</td>\n",
       "      <td>...</td>\n",
       "      <td>...</td>\n",
       "    </tr>\n",
       "    <tr>\n",
       "      <th>148</th>\n",
       "      <td>41</td>\n",
       "      <td>1.000000e-02</td>\n",
       "      <td>1.800000e-06</td>\n",
       "      <td>1</td>\n",
       "      <td>38753807</td>\n",
       "      <td>10511</td>\n",
       "      <td>72</td>\n",
       "      <td>71</td>\n",
       "      <td>+</td>\n",
       "      <td>-</td>\n",
       "      <td>195154279</td>\n",
       "      <td>CCAGCTAAATGTAGAGAAAAAAATTGTTAGACCGACTGATGCTCCT...</td>\n",
       "      <td>CCAGCTAAATGAAGGGAGAAAA-TTGTTAGGTCTACTGATGCTCCT...</td>\n",
       "      <td>Mus_musculus</td>\n",
       "    </tr>\n",
       "    <tr>\n",
       "      <th>149</th>\n",
       "      <td>41</td>\n",
       "      <td>1.000000e-02</td>\n",
       "      <td>1.800000e-06</td>\n",
       "      <td>6</td>\n",
       "      <td>84023575</td>\n",
       "      <td>3836</td>\n",
       "      <td>57</td>\n",
       "      <td>57</td>\n",
       "      <td>+</td>\n",
       "      <td>-</td>\n",
       "      <td>149588044</td>\n",
       "      <td>GTTGGGCCTTCTATAGCTGATGGAAGTCATGGATGAAGTCCGAATT...</td>\n",
       "      <td>GTAGGGCCTTCTATTGCTGATGGTAGTCATGGGTGGAGGCCAAATT...</td>\n",
       "      <td>Mus_musculus</td>\n",
       "    </tr>\n",
       "    <tr>\n",
       "      <th>150</th>\n",
       "      <td>41</td>\n",
       "      <td>1.000000e-02</td>\n",
       "      <td>1.800000e-06</td>\n",
       "      <td>11</td>\n",
       "      <td>48196043</td>\n",
       "      <td>3007</td>\n",
       "      <td>77</td>\n",
       "      <td>77</td>\n",
       "      <td>+</td>\n",
       "      <td>-</td>\n",
       "      <td>121973369</td>\n",
       "      <td>ATTTGTTTTGTCTGTGGAAAATTTTATAGTTAGGTTGCTTAGTTCT...</td>\n",
       "      <td>ATTTGCTTTATTTATTGATAGTTTTATGGTTAGGTTGTTTAGTTCT...</td>\n",
       "      <td>Mus_musculus</td>\n",
       "    </tr>\n",
       "    <tr>\n",
       "      <th>151</th>\n",
       "      <td>38</td>\n",
       "      <td>2.700000e-01</td>\n",
       "      <td>4.700000e-05</td>\n",
       "      <td>8</td>\n",
       "      <td>39205647</td>\n",
       "      <td>4187</td>\n",
       "      <td>66</td>\n",
       "      <td>66</td>\n",
       "      <td>+</td>\n",
       "      <td>-</td>\n",
       "      <td>130127694</td>\n",
       "      <td>AATAGTATTAGATATTTAATAAATCAGTTAATATGTAGGTCTGAGT...</td>\n",
       "      <td>AATAGTGTAAGATATTTAATGAATCGATTGATGTTTGGGTCTGAGT...</td>\n",
       "      <td>Mus_musculus</td>\n",
       "    </tr>\n",
       "    <tr>\n",
       "      <th>152</th>\n",
       "      <td>38</td>\n",
       "      <td>2.700000e-01</td>\n",
       "      <td>4.700000e-05</td>\n",
       "      <td>15</td>\n",
       "      <td>57354615</td>\n",
       "      <td>16250</td>\n",
       "      <td>50</td>\n",
       "      <td>50</td>\n",
       "      <td>+</td>\n",
       "      <td>-</td>\n",
       "      <td>104073951</td>\n",
       "      <td>TCCATCTAAGCATTTTCAGTGTTGTGCTTTATAATTAAACTACATT...</td>\n",
       "      <td>TCCATCTAAGCATTTTCAGTGCTTTGCTTTGTTATTAAGCTACATT...</td>\n",
       "      <td>Mus_musculus</td>\n",
       "    </tr>\n",
       "  </tbody>\n",
       "</table>\n",
       "<p>153 rows × 14 columns</p>\n",
       "</div>"
      ],
      "text/plain": [
       "     score      eg2_value        e_value g_id    g_start  mt_start  g_length  \\\n",
       "0     2464   0.000000e+00   0.000000e+00    4   79920566     12487      2871   \n",
       "1      731   0.000000e+00   0.000000e+00    5   84766087      4846      1588   \n",
       "2      695   0.000000e+00   0.000000e+00    4    9958624      3198      1326   \n",
       "3      618  2.300000e-277  3.800000e-281    5    7326298     14714      1002   \n",
       "4      459  1.100000e-201  1.900000e-205    8  102750360     14921      1183   \n",
       "..     ...            ...            ...  ...        ...       ...       ...   \n",
       "148     41   1.000000e-02   1.800000e-06    1   38753807     10511        72   \n",
       "149     41   1.000000e-02   1.800000e-06    6   84023575      3836        57   \n",
       "150     41   1.000000e-02   1.800000e-06   11   48196043      3007        77   \n",
       "151     38   2.700000e-01   4.700000e-05    8   39205647      4187        66   \n",
       "152     38   2.700000e-01   4.700000e-05   15   57354615     16250        50   \n",
       "\n",
       "     mt_length g_strand mt_strand     g_size  \\\n",
       "0         2869        +         +  156860686   \n",
       "1         1594        +         +  151758149   \n",
       "2         1316        +         +  156860686   \n",
       "3         1000        +         +  151758149   \n",
       "4         1214        +         +  130127694   \n",
       "..         ...      ...       ...        ...   \n",
       "148         71        +         -  195154279   \n",
       "149         57        +         -  149588044   \n",
       "150         77        +         -  121973369   \n",
       "151         66        +         -  130127694   \n",
       "152         50        +         -  104073951   \n",
       "\n",
       "                                            g_sequence  \\\n",
       "0    AAGTACAATAGTAGTTGCAGGAATCTTTCTACTGGTCCGATTTCAC...   \n",
       "1    AAAATAATTACCCACCACACATGCTTCAAAAATAACTTTATCCTTc...   \n",
       "2    TTATATCAGTCCTATTAATAAGCAGGTCACTTTCTCTACAAATATG...   \n",
       "3    GCCATAGTAATTTTTCATCTCCTTTTTCCTTCACAAAACAGGATCA...   \n",
       "4    AATGCCCTCCATACCCTACCCCACATTAAACCAGAATGATACTTCC...   \n",
       "..                                                 ...   \n",
       "148  CCAGCTAAATGTAGAGAAAAAAATTGTTAGACCGACTGATGCTCCT...   \n",
       "149  GTTGGGCCTTCTATAGCTGATGGAAGTCATGGATGAAGTCCGAATT...   \n",
       "150  ATTTGTTTTGTCTGTGGAAAATTTTATAGTTAGGTTGCTTAGTTCT...   \n",
       "151  AATAGTATTAGATATTTAATAAATCAGTTAATATGTAGGTCTGAGT...   \n",
       "152  TCCATCTAAGCATTTTCAGTGTTGTGCTTTATAATTAAACTACATT...   \n",
       "\n",
       "                                           mt_sequence organism_name  \n",
       "0    AAGTACAATAGTAGTTGCAGGAATTTTCCTACTGGTCCGATTCCAC...  Mus_musculus  \n",
       "1    AAAataataactcaCCAAACAAAAACTAAACCCAACCTAATATTTT...  Mus_musculus  \n",
       "2    TTTTATCAGTTCTATTAATAAATGGATCCTACTCTCTACAAACACT...  Mus_musculus  \n",
       "3    GCCCTAGCAATCGTTCACCTCCTCTT-CCTCCACGAAACAGGATCA...  Mus_musculus  \n",
       "4    AATCCACTAAACACCCCACCCCATATTAAACCCGAATGATATTTCC...  Mus_musculus  \n",
       "..                                                 ...           ...  \n",
       "148  CCAGCTAAATGAAGGGAGAAAA-TTGTTAGGTCTACTGATGCTCCT...  Mus_musculus  \n",
       "149  GTAGGGCCTTCTATTGCTGATGGTAGTCATGGGTGGAGGCCAAATT...  Mus_musculus  \n",
       "150  ATTTGCTTTATTTATTGATAGTTTTATGGTTAGGTTGTTTAGTTCT...  Mus_musculus  \n",
       "151  AATAGTGTAAGATATTTAATGAATCGATTGATGTTTGGGTCTGAGT...  Mus_musculus  \n",
       "152  TCCATCTAAGCATTTTCAGTGCTTTGCTTTGTTATTAAGCTACATT...  Mus_musculus  \n",
       "\n",
       "[153 rows x 14 columns]"
      ]
     },
     "execution_count": 93,
     "metadata": {},
     "output_type": "execute_result"
    }
   ],
   "source": [
    "gcs={'Ailuropoda_melanoleuca':41.7801,'Aotus_nancymaae':41.1,'Balaenoptera_musculus':41.0934,\n",
    "     'Bison_bison_bison':42.2,'Bos_grunniens':41.966,'Bos_indicus_hybrid':42.1399,'Bos_mutus':41.3,\n",
    "    'Bos_taurus':41.6843,'Callithrix_jacchus':40.9,'Camelus_dromedarius':41.5,'Canis_lupus_dingo':41.3,\n",
    "    'Canis_lupus_familiaris':41.2033,'Capra_hircus':42.2323,'Carlito_syrichta':41,'Cavia_porcellus': 40.1,\n",
    "    'Cercocebus_atys':41.1,'Chinchilla_lanigera':41.4,'Chlorocebus_sabaeus':41.1,'Choloepus_hoffmanni':40,\n",
    "    'Cricetulus_griseus':41.5142,'Dasypus_novemcinctus':41.5,'Delphinapterus_leucas':41.4,\n",
    "    'Dipodomys_ordii':42.6,'Erinaceus_europaeus':41.9999,'Felis_catus':41.8806,'Gorilla_gorilla':40.929,\n",
    "    'Heterocephalus_glaber_female':40.7,'Homo_sapiens':40.4,'Ictidomys_tridecemlineatus':40.1,\n",
    "    'Jaculus_jaculus':41.9885,'Macaca_fascicularis':41.1326,'Macaca_mulatta':41.072,\n",
    "    'Macaca_nemestrina':41.3,'Mandrillus_leucophaeus':41.6,'Mesocricetus_auratus':42.75,\n",
    "     'Microcebus_murinus':41.3423,'Microtus_ochrogaster':41.2156,'Monodelphis_domestica':38.1446,\n",
    "    'Monodon_monoceros':41.3,'Moschus_moschiferus':40.55,'Mustela_putorius_furo':41.5,\n",
    "    'Mus_caroli':42.6193,'Mus_musculus':42.6486,'Mus_pahari':42.6694,'Mus_spretus':42.3292,\n",
    "    'Nannospalax_galili':41.6,'Neovison_vison':42.248,'Nomascus_leucogenys':41.0988,\n",
    "    'Notamacropus_eugenii':40.4,'Ochotona_princeps':44.2103,'Octodon_degus': 42.5,\n",
    "    'Ornithorhynchus_anatinus':46.2349,'Oryctolagus_cuniculus':44.0526,'Ovis_aries':42.0358,\n",
    "    'Panthera_leo':41.5466,'Panthera_pardus':41.9,'Panthera_tigris_altaica':41.5,'Pan_paniscus':41.5096,\n",
    "    'Pan_troglodytes':40.8082,'Papio_anubis':40.9646,'Peromyscus_maniculatus_bairdii':42.6794,\n",
    "    'Phascolarctos_cinereus':45.05,'Phocoena_sinus':41.4452,'Physeter_catodon':41.3,'Pongo_abelii':41.1801,\n",
    "    'Prolemur_simus':37.8,'Propithecus_coquereli':43.2,'Rattus_norvegicus':41.7411,\n",
    "     'Rhinopithecus_bieti':41.5,'Rhinopithecus_roxellana':40.9541,'Saimiri_boliviensis_boliviensis':41.05,\n",
    "     'Sarcophilus_harrisii':37.15,'Sciurus_vulgaris':39.2685,'Sorex_araneus':43.4,'Sus_scrofa':41.6,\n",
    "    'Tupaia_belangeri':41.4,'Tursiops_truncatus':40.9,'Ursus_americanus':39.5,'Ursus_maritimus':41.8,\n",
    "    'Vicugna_pacos':41.65,'Vombatus_ursinus':44.7,'Vulpes_vulpes':41.3}\n",
    "\n",
    "gc_content=pd.Series(number_of_numts.index.values).apply(lambda organism_name: gcs[organism_name])\n",
    "gc_content.index=number_of_numts.index.values\n",
    "\n",
    "fig,axs=plt.subplots(1,2,figsize=(9,5),sharey=True)\n",
    "axs[0].plot(number_of_numts,gc_content,'o')\n",
    "axs[0].set_title(f'corr: {np.round(pearsonr(number_of_numts,gc_content)[0],2)}')\n",
    "axs[0].set_xlabel('Number of numts')\n",
    "m0, b0 = np.polyfit(number_of_numts,gc_content, 1)\n",
    "axs[0].plot(number_of_numts, m0*number_of_numts + b0)\n",
    "#axs[0].set_xlim(0,1000)\n",
    "\n",
    "axs[1].plot(length_of_numts,gc_content,'o')\n",
    "axs[1].set_title(f'corr: {np.round(pearsonr(length_of_numts,gc_content)[0],2)}')\n",
    "axs[1].set_xlabel('Length of numts')\n",
    "axs[0].set_ylabel('GC content')\n",
    "m1, b1 = np.polyfit(length_of_numts,gc_content, 1)\n",
    "axs[1].plot(length_of_numts, m1*length_of_numts + b1)\n",
    "plt.tight_layout()\n",
    "#plt.savefig(figs_dir+'gc_numt_number_and_length_corr.png',dpi=200)"
   ]
  },
  {
   "cell_type": "code",
   "execution_count": null,
   "id": "c0183221",
   "metadata": {},
   "outputs": [],
   "source": []
  }
 ],
 "metadata": {
  "kernelspec": {
   "display_name": "Python 3",
   "language": "python",
   "name": "python3"
  },
  "language_info": {
   "codemirror_mode": {
    "name": "ipython",
    "version": 3
   },
   "file_extension": ".py",
   "mimetype": "text/x-python",
   "name": "python",
   "nbconvert_exporter": "python",
   "pygments_lexer": "ipython3",
   "version": "3.7.1"
  }
 },
 "nbformat": 4,
 "nbformat_minor": 5
}
