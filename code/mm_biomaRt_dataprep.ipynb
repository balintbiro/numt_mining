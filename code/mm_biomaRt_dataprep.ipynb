{
 "cells": [
  {
   "cell_type": "code",
   "execution_count": 1,
   "id": "1ecbd3e9",
   "metadata": {},
   "outputs": [],
   "source": [
    "import os\n",
    "import pandas as pd"
   ]
  },
  {
   "cell_type": "code",
   "execution_count": 2,
   "id": "2c80560a",
   "metadata": {},
   "outputs": [],
   "source": [
    "dfs=pd.Series(os.listdir('Z:/balint/numt/mice_strains_numt/csvs/')).apply(\n",
    "    lambda filename:pd.read_csv(f'Z:/balint/numt/mice_strains_numt/csvs/{filename}'))"
   ]
  },
  {
   "cell_type": "code",
   "execution_count": 14,
   "id": "afa10dc7",
   "metadata": {},
   "outputs": [
    {
     "data": {
      "text/plain": [
       "0     Mus_musculus_129s1svimj_numts.csv\n",
       "1             Mus_musculus_aj_numts.csv\n",
       "2           Mus_musculus_akrj_numts.csv\n",
       "3         Mus_musculus_balbcj_numts.csv\n",
       "4         Mus_musculus_c3hhej_numts.csv\n",
       "5       Mus_musculus_c57bl6nj_numts.csv\n",
       "6        Mus_musculus_casteij_numts.csv\n",
       "7           Mus_musculus_cbaj_numts.csv\n",
       "8          Mus_musculus_dba2j_numts.csv\n",
       "9          Mus_musculus_fvbnj_numts.csv\n",
       "10           Mus_musculus_lpj_numts.csv\n",
       "11     Mus_musculus_nodshiltj_numts.csv\n",
       "12               Mus_musculus_numts.csv\n",
       "13      Mus_musculus_nzohlltj_numts.csv\n",
       "14        Mus_musculus_pwkphj_numts.csv\n",
       "15        Mus_musculus_wsbeij_numts.csv\n",
       "dtype: object"
      ]
     },
     "execution_count": 14,
     "metadata": {},
     "output_type": "execute_result"
    }
   ],
   "source": [
    "pd.Series(os.listdir('Z:/balint/numt/mice_strains_numt/csvs/'))"
   ]
  },
  {
   "cell_type": "code",
   "execution_count": 28,
   "id": "c1cb55be",
   "metadata": {},
   "outputs": [],
   "source": [
    "dfs.index=pd.Series(os.listdir('Z:/balint/numt/mice_strains_numt/csvs/')).apply(\n",
    "    lambda filename:'mm'+filename.split('_')[2]+'_gene_ensembl')"
   ]
  },
  {
   "cell_type": "code",
   "execution_count": 35,
   "id": "f6266a09",
   "metadata": {},
   "outputs": [],
   "source": [
    "def genomic_region(df):\n",
    "    chr_mask=df['g_id'].apply(lambda g_id: len(g_id)<3 and g_id!='MT' and g_id!='X')\n",
    "    df=df[chr_mask]\n",
    "    g_ids=df['g_id'].tolist()\n",
    "    starts=df['g_start'].tolist()\n",
    "    lengths=(df['g_start']+df['g_length']).tolist()\n",
    "    genomic_regions=[]\n",
    "    for g_id,start,length in zip(g_ids,starts,lengths):\n",
    "        genomic_regions.append(str(g_id)+':'+str(start)+':'+str(length))\n",
    "    return(genomic_regions)"
   ]
  },
  {
   "cell_type": "code",
   "execution_count": 36,
   "id": "4a4147df",
   "metadata": {},
   "outputs": [],
   "source": [
    "genomic_regions=dfs.apply(genomic_region)"
   ]
  },
  {
   "cell_type": "code",
   "execution_count": 37,
   "id": "6edf634c",
   "metadata": {},
   "outputs": [],
   "source": [
    "def write_genomic_region(genomic_region):\n",
    "    global indexer\n",
    "    filename=genomic_regions.index.values[indexer]+'.txt'\n",
    "    with open(f'Z:/balint/numt/mice_strains_numt/genomic_regions/{filename}','w')as outfile:\n",
    "        outfile.write('\\n'.join(genomic_region))\n",
    "    indexer+=1"
   ]
  },
  {
   "cell_type": "code",
   "execution_count": 38,
   "id": "189a7742",
   "metadata": {},
   "outputs": [
    {
     "data": {
      "text/plain": [
       "mm129s1svimj_gene_ensembl    None\n",
       "mmaj_gene_ensembl            None\n",
       "mmakrj_gene_ensembl          None\n",
       "mmbalbcj_gene_ensembl        None\n",
       "mmc3hhej_gene_ensembl        None\n",
       "mmc57bl6nj_gene_ensembl      None\n",
       "mmcasteij_gene_ensembl       None\n",
       "mmcbaj_gene_ensembl          None\n",
       "mmdba2j_gene_ensembl         None\n",
       "mmfvbnj_gene_ensembl         None\n",
       "mmlpj_gene_ensembl           None\n",
       "mmnodshiltj_gene_ensembl     None\n",
       "mmnumts.csv_gene_ensembl     None\n",
       "mmnzohlltj_gene_ensembl      None\n",
       "mmpwkphj_gene_ensembl        None\n",
       "mmwsbeij_gene_ensembl        None\n",
       "dtype: object"
      ]
     },
     "execution_count": 38,
     "metadata": {},
     "output_type": "execute_result"
    }
   ],
   "source": [
    "indexer=0\n",
    "genomic_regions.apply(write_genomic_region)"
   ]
  },
  {
   "cell_type": "code",
   "execution_count": null,
   "id": "c14857fb",
   "metadata": {},
   "outputs": [],
   "source": []
  }
 ],
 "metadata": {
  "kernelspec": {
   "display_name": "Python 3",
   "language": "python",
   "name": "python3"
  },
  "language_info": {
   "codemirror_mode": {
    "name": "ipython",
    "version": 3
   },
   "file_extension": ".py",
   "mimetype": "text/x-python",
   "name": "python",
   "nbconvert_exporter": "python",
   "pygments_lexer": "ipython3",
   "version": "3.7.1"
  }
 },
 "nbformat": 4,
 "nbformat_minor": 5
}
