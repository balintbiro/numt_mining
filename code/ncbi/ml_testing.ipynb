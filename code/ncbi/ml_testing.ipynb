{
 "cells": [
  {
   "cell_type": "code",
   "execution_count": 28,
   "id": "aa90595b",
   "metadata": {},
   "outputs": [],
   "source": [
    "import numpy as np\n",
    "import pandas as pd"
   ]
  },
  {
   "cell_type": "code",
   "execution_count": 29,
   "id": "019f1a2f",
   "metadata": {},
   "outputs": [
    {
     "data": {
      "text/html": [
       "<style>.container { width:90% !important; }</style>"
      ],
      "text/plain": [
       "<IPython.core.display.HTML object>"
      ]
     },
     "metadata": {},
     "output_type": "display_data"
    }
   ],
   "source": [
    "from IPython.display import display, HTML\n",
    "display(HTML(\"<style>.container { width:90% !important; }</style>\"))"
   ]
  },
  {
   "cell_type": "code",
   "execution_count": 32,
   "id": "de3ddd4b",
   "metadata": {},
   "outputs": [],
   "source": [
    "df=pd.read_csv('../../results/ml_model_testing_results.csv',index_col=0)"
   ]
  },
  {
   "cell_type": "code",
   "execution_count": 38,
   "id": "f5d84035",
   "metadata": {},
   "outputs": [
    {
     "data": {
      "text/html": [
       "<div>\n",
       "<style scoped>\n",
       "    .dataframe tbody tr th:only-of-type {\n",
       "        vertical-align: middle;\n",
       "    }\n",
       "\n",
       "    .dataframe tbody tr th {\n",
       "        vertical-align: top;\n",
       "    }\n",
       "\n",
       "    .dataframe thead th {\n",
       "        text-align: right;\n",
       "    }\n",
       "</style>\n",
       "<table border=\"1\" class=\"dataframe\">\n",
       "  <thead>\n",
       "    <tr style=\"text-align: right;\">\n",
       "      <th></th>\n",
       "      <th>fit_time_mean</th>\n",
       "      <th>fit_time_std</th>\n",
       "      <th>score_time_mean</th>\n",
       "      <th>score_time_std</th>\n",
       "      <th>test_accuracy_mean</th>\n",
       "      <th>test_accuracy_std</th>\n",
       "      <th>test_roc_auc_mean</th>\n",
       "      <th>test_roc_auc_std</th>\n",
       "    </tr>\n",
       "    <tr>\n",
       "      <th>model</th>\n",
       "      <th></th>\n",
       "      <th></th>\n",
       "      <th></th>\n",
       "      <th></th>\n",
       "      <th></th>\n",
       "      <th></th>\n",
       "      <th></th>\n",
       "      <th></th>\n",
       "    </tr>\n",
       "  </thead>\n",
       "  <tbody>\n",
       "    <tr>\n",
       "      <th>GNB</th>\n",
       "      <td>0.081062</td>\n",
       "      <td>0.029236</td>\n",
       "      <td>0.015584</td>\n",
       "      <td>0.000816</td>\n",
       "      <td>0.65330</td>\n",
       "      <td>0.008453</td>\n",
       "      <td>0.829345</td>\n",
       "      <td>0.006511</td>\n",
       "    </tr>\n",
       "    <tr>\n",
       "      <th>LR</th>\n",
       "      <td>0.766070</td>\n",
       "      <td>0.059524</td>\n",
       "      <td>0.015252</td>\n",
       "      <td>0.000936</td>\n",
       "      <td>0.83825</td>\n",
       "      <td>0.007671</td>\n",
       "      <td>0.916422</td>\n",
       "      <td>0.006090</td>\n",
       "    </tr>\n",
       "    <tr>\n",
       "      <th>MLP</th>\n",
       "      <td>16.405637</td>\n",
       "      <td>3.725067</td>\n",
       "      <td>0.026983</td>\n",
       "      <td>0.003310</td>\n",
       "      <td>0.91550</td>\n",
       "      <td>0.014465</td>\n",
       "      <td>0.977684</td>\n",
       "      <td>0.004974</td>\n",
       "    </tr>\n",
       "    <tr>\n",
       "      <th>RFC</th>\n",
       "      <td>13.280295</td>\n",
       "      <td>0.114818</td>\n",
       "      <td>0.085590</td>\n",
       "      <td>0.001427</td>\n",
       "      <td>0.97080</td>\n",
       "      <td>0.002730</td>\n",
       "      <td>0.996226</td>\n",
       "      <td>0.001072</td>\n",
       "    </tr>\n",
       "    <tr>\n",
       "      <th>SVC</th>\n",
       "      <td>49.919826</td>\n",
       "      <td>0.232115</td>\n",
       "      <td>12.106357</td>\n",
       "      <td>0.236947</td>\n",
       "      <td>0.80585</td>\n",
       "      <td>0.009925</td>\n",
       "      <td>0.909056</td>\n",
       "      <td>0.007540</td>\n",
       "    </tr>\n",
       "    <tr>\n",
       "      <th>XGB</th>\n",
       "      <td>20.352038</td>\n",
       "      <td>0.192357</td>\n",
       "      <td>0.038547</td>\n",
       "      <td>0.005522</td>\n",
       "      <td>0.99800</td>\n",
       "      <td>0.001000</td>\n",
       "      <td>0.999981</td>\n",
       "      <td>0.000019</td>\n",
       "    </tr>\n",
       "  </tbody>\n",
       "</table>\n",
       "</div>"
      ],
      "text/plain": [
       "       fit_time_mean  fit_time_std  score_time_mean  score_time_std  \\\n",
       "model                                                                 \n",
       "GNB         0.081062      0.029236         0.015584        0.000816   \n",
       "LR          0.766070      0.059524         0.015252        0.000936   \n",
       "MLP        16.405637      3.725067         0.026983        0.003310   \n",
       "RFC        13.280295      0.114818         0.085590        0.001427   \n",
       "SVC        49.919826      0.232115        12.106357        0.236947   \n",
       "XGB        20.352038      0.192357         0.038547        0.005522   \n",
       "\n",
       "       test_accuracy_mean  test_accuracy_std  test_roc_auc_mean  \\\n",
       "model                                                             \n",
       "GNB               0.65330           0.008453           0.829345   \n",
       "LR                0.83825           0.007671           0.916422   \n",
       "MLP               0.91550           0.014465           0.977684   \n",
       "RFC               0.97080           0.002730           0.996226   \n",
       "SVC               0.80585           0.009925           0.909056   \n",
       "XGB               0.99800           0.001000           0.999981   \n",
       "\n",
       "       test_roc_auc_std  \n",
       "model                    \n",
       "GNB            0.006511  \n",
       "LR             0.006090  \n",
       "MLP            0.004974  \n",
       "RFC            0.001072  \n",
       "SVC            0.007540  \n",
       "XGB            0.000019  "
      ]
     },
     "execution_count": 38,
     "metadata": {},
     "output_type": "execute_result"
    }
   ],
   "source": [
    "grouped_df=df.groupby(by='model').agg(['mean','std'])\n",
    "grouped_df.columns=pd.Series(grouped_df.columns.values).str.join(sep='_').values\n",
    "grouped_df"
   ]
  },
  {
   "cell_type": "code",
   "execution_count": 40,
   "id": "ec0caada",
   "metadata": {},
   "outputs": [
    {
     "data": {
      "text/plain": [
       "model\n",
       "GNB    0.008453\n",
       "LR     0.007671\n",
       "MLP    0.014465\n",
       "RFC    0.002730\n",
       "SVC    0.009925\n",
       "XGB    0.001000\n",
       "Name: test_accuracy_std, dtype: float64"
      ]
     },
     "execution_count": 40,
     "metadata": {},
     "output_type": "execute_result"
    }
   ],
   "source": [
    "grouped_df['test_accuracy_std']"
   ]
  },
  {
   "cell_type": "code",
   "execution_count": 52,
   "id": "63c8930d",
   "metadata": {},
   "outputs": [
    {
     "data": {
      "text/plain": [
       "'GNB'"
      ]
     },
     "execution_count": 52,
     "metadata": {},
     "output_type": "execute_result"
    }
   ],
   "source": [
    "grouped_df.index[0]"
   ]
  },
  {
   "cell_type": "code",
   "execution_count": 93,
   "id": "3455f6c5",
   "metadata": {},
   "outputs": [
    {
     "name": "stderr",
     "output_type": "stream",
     "text": [
      "/var/folders/g2/9pvgl5793mxgz8dg4mhwym0m0000gn/T/ipykernel_6800/68979992.py:9: UserWarning: You have used the `textcoords` kwarg, but not the `xytext` kwarg.  This can lead to surprising results.\n",
      "  axs.annotate(grouped_df.index[0],xy=(x[0]+.02,y[0]-0.01),textcoords='offset points',fontsize=15)\n",
      "/var/folders/g2/9pvgl5793mxgz8dg4mhwym0m0000gn/T/ipykernel_6800/68979992.py:10: UserWarning: You have used the `textcoords` kwarg, but not the `xytext` kwarg.  This can lead to surprising results.\n",
      "  axs.annotate(grouped_df.index[1],xy=(x[1]-.03,y[1]-0.01),textcoords='offset points',fontsize=15)\n",
      "/var/folders/g2/9pvgl5793mxgz8dg4mhwym0m0000gn/T/ipykernel_6800/68979992.py:11: UserWarning: You have used the `textcoords` kwarg, but not the `xytext` kwarg.  This can lead to surprising results.\n",
      "  axs.annotate(grouped_df.index[2],xy=(x[2]-.03,y[2]-0.01),textcoords='offset points',fontsize=15)\n",
      "/var/folders/g2/9pvgl5793mxgz8dg4mhwym0m0000gn/T/ipykernel_6800/68979992.py:12: UserWarning: You have used the `textcoords` kwarg, but not the `xytext` kwarg.  This can lead to surprising results.\n",
      "  axs.annotate(grouped_df.index[3],xy=(x[3]-.03,y[3]-0.01),textcoords='offset points',fontsize=15)\n",
      "/var/folders/g2/9pvgl5793mxgz8dg4mhwym0m0000gn/T/ipykernel_6800/68979992.py:13: UserWarning: You have used the `textcoords` kwarg, but not the `xytext` kwarg.  This can lead to surprising results.\n",
      "  axs.annotate(grouped_df.index[4],xy=(x[4]-.03,y[4]-0.01),textcoords='offset points',fontsize=15)\n",
      "/var/folders/g2/9pvgl5793mxgz8dg4mhwym0m0000gn/T/ipykernel_6800/68979992.py:14: UserWarning: You have used the `textcoords` kwarg, but not the `xytext` kwarg.  This can lead to surprising results.\n",
      "  axs.annotate(grouped_df.index[5],xy=(x[5]-.03,y[5]-0.01),textcoords='offset points',fontsize=15)\n"
     ]
    },
    {
     "data": {
      "image/png": "[encoded data removed]",
      "text/plain": [
       "<Figure size 432x288 with 1 Axes>"
      ]
     },
     "metadata": {
      "needs_background": "light"
     },
     "output_type": "display_data"
    }
   ],
   "source": [
    "fig,axs=plt.subplots()\n",
    "x,y=grouped_df['test_roc_auc_mean'].values,grouped_df['test_accuracy_mean'].values\n",
    "model_scatter=axs.scatter(x,y)\n",
    "axs.errorbar(\n",
    "    x=grouped_df['test_roc_auc_mean'].values,y=grouped_df['test_accuracy_mean'].values,\n",
    "    xerr=grouped_df['test_roc_auc_std'].values,yerr=grouped_df['test_accuracy_std'].values,\n",
    "    fmt='o',c='g'\n",
    ")\n",
    "axs.annotate(grouped_df.index[0],xy=(x[0]+.02,y[0]-0.01),textcoords='offset points',fontsize=15)\n",
    "axs.annotate(grouped_df.index[1],xy=(x[1]-.03,y[1]-0.01),textcoords='offset points',fontsize=15)\n",
    "axs.annotate(grouped_df.index[2],xy=(x[2]-.03,y[2]-0.01),textcoords='offset points',fontsize=15)\n",
    "axs.annotate(grouped_df.index[3],xy=(x[3]-.03,y[3]-0.01),textcoords='offset points',fontsize=15)\n",
    "axs.annotate(grouped_df.index[4],xy=(x[4]-.03,y[4]-0.01),textcoords='offset points',fontsize=15)\n",
    "axs.annotate(grouped_df.index[5],xy=(x[5]-.03,y[5]-0.01),textcoords='offset points',fontsize=15)\n",
    "axs.set_title('Performance of ML algorithms',fontsize=20)\n",
    "axs.set_ylabel('Accuracy',fontsize=20)\n",
    "axs.set_xlabel('AUC',fontsize=20)\n",
    "plt.tight_layout()\n",
    "plt.savefig('../../results/ml_testing.png',dpi=400)"
   ]
  },
  {
   "cell_type": "code",
   "execution_count": null,
   "id": "d159b603",
   "metadata": {},
   "outputs": [],
   "source": []
  }
 ],
 "metadata": {
  "kernelspec": {
   "display_name": "Python 3 (ipykernel)",
   "language": "python",
   "name": "python3"
  },
  "language_info": {
   "codemirror_mode": {
    "name": "ipython",
    "version": 3
   },
   "file_extension": ".py",
   "mimetype": "text/x-python",
   "name": "python",
   "nbconvert_exporter": "python",
   "pygments_lexer": "ipython3",
   "version": "3.9.7"
  }
 },
 "nbformat": 4,
 "nbformat_minor": 5
}
