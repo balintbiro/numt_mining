{
 "cells": [
  {
   "cell_type": "code",
   "execution_count": 11,
   "id": "77aa1187",
   "metadata": {},
   "outputs": [],
   "source": [
    "import numpy as np\n",
    "import pandas as pd\n",
    "import matplotlib.pyplot as plt\n",
    "import plotly.express as px"
   ]
  },
  {
   "cell_type": "code",
   "execution_count": 15,
   "id": "552d9219",
   "metadata": {},
   "outputs": [],
   "source": [
    "#read in results\n",
    "randomcv_res=pd.read_csv('../../data/flanking_gsCV_results.csv',index_col=0)\n",
    "\n",
    "#filter columns\n",
    "params=list(randomcv_res.filter(like='param_'))\n",
    "params.append('mean_test_score')\n",
    "randomcv_res=randomcv_res[params]\n",
    "param_dict=pd.Series({\n",
    "  'param_n_estimators':'n estimators',\n",
    "  'param_min_samples_split':'mn split',\n",
    "  'param_min_samples_leaf':'mn leaf',\n",
    "  'param_max_features':'mx features',\n",
    "  'param_max_depth':'mx depth',\n",
    "  'mean_test_score':'avg AUC'\n",
    "})\n",
    "randomcv_res.columns=param_dict[params].values\n",
    "\n",
    "#create plot\n",
    "fig = px.parallel_coordinates(randomcv_res, color=\"avg AUC\",\n",
    "                              dimensions=randomcv_res.columns,\n",
    "                              color_continuous_scale=px.colors.diverging.Tealrose,\n",
    "                              color_continuous_midpoint=.5,\n",
    "                             range_color=(0.5,.85))\n",
    "\n",
    "#update layout\n",
    "fig.update_layout(\n",
    "    height=350,\n",
    "        width=650,\n",
    "    font=dict(\n",
    "        family='Arial',\n",
    "        size=20,\n",
    "        color='#000000'\n",
    "      )\n",
    "  )\n",
    "\n",
    "#create figure\n",
    "fig.write_image('../../results/flanking_grid_search.svg')"
   ]
  },
  {
   "cell_type": "code",
   "execution_count": null,
   "id": "3b45ea16",
   "metadata": {},
   "outputs": [],
   "source": []
  }
 ],
 "metadata": {
  "kernelspec": {
   "display_name": "Python 3 (ipykernel)",
   "language": "python",
   "name": "python3"
  },
  "language_info": {
   "codemirror_mode": {
    "name": "ipython",
    "version": 3
   },
   "file_extension": ".py",
   "mimetype": "text/x-python",
   "name": "python",
   "nbconvert_exporter": "python",
   "pygments_lexer": "ipython3",
   "version": "3.9.7"
  }
 },
 "nbformat": 4,
 "nbformat_minor": 5
}
