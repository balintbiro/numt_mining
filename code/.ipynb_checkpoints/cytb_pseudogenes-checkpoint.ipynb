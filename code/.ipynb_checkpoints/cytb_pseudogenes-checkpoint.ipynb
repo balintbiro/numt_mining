{
 "cells": [
  {
   "cell_type": "code",
   "execution_count": 2,
   "id": "fe99414e",
   "metadata": {},
   "outputs": [],
   "source": [
    "#import required modules\n",
    "import os\n",
    "import numpy as np\n",
    "import pandas as pd"
   ]
  },
  {
   "cell_type": "code",
   "execution_count": 4,
   "id": "2fd1eb26",
   "metadata": {},
   "outputs": [
    {
     "name": "stdout",
     "output_type": "stream",
     "text": [
      "._Mus_musculus_fvbnj_numts.csv\n"
     ]
    }
   ],
   "source": [
    "#read in the csv files\n",
    "parent_dir=os.path.join('/Volumes/motilin/balint/numt/mice_strains_numt/csvs/')\n",
    "dfs=pd.Series(os.listdir('/Volumes/motilin/balint/numt/mice_strains_numt/csvs/')).apply(\n",
    "lambda filename: pd.read_csv(parent_dir+filename) if filename.count('.')==1 else print(filename))\n",
    "dfs.index=pd.Series(os.listdir('/Volumes/motilin/balint/numt/mice_strains_numt/csvs/')).apply(\n",
    "    lambda filename:filename[:-4])\n",
    "dfs=dfs.drop(labels=['._Mus_musculus_fvbnj_numts','Mus_musculus_lpj_numts','Mus_musculus_c3hhej_numts','Mus_musculus_balbcj_numts',\n",
    "                                           'Mus_musculus_aj_numts','Mus_musculus_nodshiltj_numts','Mus_musculus_akrj_numts',\n",
    "                                           'Mus_musculus_dba2j_numts','Mus_musculus_129s1svimj_numts','Mus_musculus_cbaj_numts',\n",
    "                                           'Mus_musculus_nzohlltj_numts','Mus_musculus_fvbnj_numts','Mus_musculus_c57bl6nj_numts'])"
   ]
  },
  {
   "cell_type": "code",
   "execution_count": 5,
   "id": "339cc670",
   "metadata": {},
   "outputs": [
    {
     "data": {
      "text/plain": [
       "Mus_musculus_casteij_numts          score      eg2_value        e_value g_id ...\n",
       "Mus_musculus_wsbeij_numts           score      eg2_value        e_value g_id ...\n",
       "Mus_musculus_pwkphj_numts           score      eg2_value        e_value g_id ...\n",
       "Mus_musculus_numts                  score      eg2_value        e_value g_id ...\n",
       "Mus_musculus_spreteij_numts         score      eg2_value        e_value g_id ...\n",
       "dtype: object"
      ]
     },
     "execution_count": 5,
     "metadata": {},
     "output_type": "execute_result"
    }
   ],
   "source": [
    "dfs"
   ]
  },
  {
   "cell_type": "code",
   "execution_count": 6,
   "id": "442bf8e7",
   "metadata": {},
   "outputs": [
    {
     "data": {
      "text/html": [
       "<div>\n",
       "<style scoped>\n",
       "    .dataframe tbody tr th:only-of-type {\n",
       "        vertical-align: middle;\n",
       "    }\n",
       "\n",
       "    .dataframe tbody tr th {\n",
       "        vertical-align: top;\n",
       "    }\n",
       "\n",
       "    .dataframe thead th {\n",
       "        text-align: right;\n",
       "    }\n",
       "</style>\n",
       "<table border=\"1\" class=\"dataframe\">\n",
       "  <thead>\n",
       "    <tr style=\"text-align: right;\">\n",
       "      <th></th>\n",
       "      <th>score</th>\n",
       "      <th>eg2_value</th>\n",
       "      <th>e_value</th>\n",
       "      <th>g_id</th>\n",
       "      <th>g_start</th>\n",
       "      <th>mt_start</th>\n",
       "      <th>g_length</th>\n",
       "      <th>mt_length</th>\n",
       "      <th>g_strand</th>\n",
       "      <th>mt_strand</th>\n",
       "      <th>g_size</th>\n",
       "      <th>g_sequence</th>\n",
       "      <th>mt_sequence</th>\n",
       "    </tr>\n",
       "  </thead>\n",
       "  <tbody>\n",
       "    <tr>\n",
       "      <th>0</th>\n",
       "      <td>16298</td>\n",
       "      <td>0.000000e+00</td>\n",
       "      <td>0.000000e+00</td>\n",
       "      <td>MT</td>\n",
       "      <td>0</td>\n",
       "      <td>0</td>\n",
       "      <td>16298</td>\n",
       "      <td>16298</td>\n",
       "      <td>+</td>\n",
       "      <td>+</td>\n",
       "      <td>16299</td>\n",
       "      <td>GTTAATGTAGCTTAATAACAAAGCAAAGCACTGAAAATGCTTAGAT...</td>\n",
       "      <td>GTTAATGTAGCTTAATAACAAAGCAAAGCACTGAAAATGCTTAGAT...</td>\n",
       "    </tr>\n",
       "    <tr>\n",
       "      <th>1</th>\n",
       "      <td>2464</td>\n",
       "      <td>0.000000e+00</td>\n",
       "      <td>0.000000e+00</td>\n",
       "      <td>4</td>\n",
       "      <td>79920566</td>\n",
       "      <td>12487</td>\n",
       "      <td>2871</td>\n",
       "      <td>2869</td>\n",
       "      <td>+</td>\n",
       "      <td>+</td>\n",
       "      <td>156860686</td>\n",
       "      <td>AAGTACAATAGTAGTTGCAGGAATCTTTCTACTGGTCCGATTTCAC...</td>\n",
       "      <td>AAGTACAATAGTAGTTGCAGGAATTTTCCTACTGGTCCGATTCCAC...</td>\n",
       "    </tr>\n",
       "    <tr>\n",
       "      <th>2</th>\n",
       "      <td>731</td>\n",
       "      <td>0.000000e+00</td>\n",
       "      <td>0.000000e+00</td>\n",
       "      <td>5</td>\n",
       "      <td>84766087</td>\n",
       "      <td>4846</td>\n",
       "      <td>1588</td>\n",
       "      <td>1594</td>\n",
       "      <td>+</td>\n",
       "      <td>+</td>\n",
       "      <td>151758149</td>\n",
       "      <td>AAAATAATTACCCACCACACATGCTTCAAAAATAACTTTATCCTTc...</td>\n",
       "      <td>AAAataataactcaCCAAACAAAAACTAAACCCAACCTAATATTTT...</td>\n",
       "    </tr>\n",
       "    <tr>\n",
       "      <th>3</th>\n",
       "      <td>695</td>\n",
       "      <td>0.000000e+00</td>\n",
       "      <td>0.000000e+00</td>\n",
       "      <td>4</td>\n",
       "      <td>9958624</td>\n",
       "      <td>3198</td>\n",
       "      <td>1326</td>\n",
       "      <td>1316</td>\n",
       "      <td>+</td>\n",
       "      <td>+</td>\n",
       "      <td>156860686</td>\n",
       "      <td>TTATATCAGTCCTATTAATAAGCAGGTCACTTTCTCTACAAATATG...</td>\n",
       "      <td>TTTTATCAGTTCTATTAATAAATGGATCCTACTCTCTACAAACACT...</td>\n",
       "    </tr>\n",
       "    <tr>\n",
       "      <th>4</th>\n",
       "      <td>618</td>\n",
       "      <td>2.300000e-277</td>\n",
       "      <td>3.800000e-281</td>\n",
       "      <td>5</td>\n",
       "      <td>7326298</td>\n",
       "      <td>14714</td>\n",
       "      <td>1002</td>\n",
       "      <td>1000</td>\n",
       "      <td>+</td>\n",
       "      <td>+</td>\n",
       "      <td>151758149</td>\n",
       "      <td>GCCATAGTAATTTTTCATCTCCTTTTTCCTTCACAAAACAGGATCA...</td>\n",
       "      <td>GCCCTAGCAATCGTTCACCTCCTCTT-CCTCCACGAAACAGGATCA...</td>\n",
       "    </tr>\n",
       "    <tr>\n",
       "      <th>...</th>\n",
       "      <td>...</td>\n",
       "      <td>...</td>\n",
       "      <td>...</td>\n",
       "      <td>...</td>\n",
       "      <td>...</td>\n",
       "      <td>...</td>\n",
       "      <td>...</td>\n",
       "      <td>...</td>\n",
       "      <td>...</td>\n",
       "      <td>...</td>\n",
       "      <td>...</td>\n",
       "      <td>...</td>\n",
       "      <td>...</td>\n",
       "    </tr>\n",
       "    <tr>\n",
       "      <th>149</th>\n",
       "      <td>41</td>\n",
       "      <td>1.000000e-02</td>\n",
       "      <td>1.800000e-06</td>\n",
       "      <td>1</td>\n",
       "      <td>38753807</td>\n",
       "      <td>10510</td>\n",
       "      <td>72</td>\n",
       "      <td>71</td>\n",
       "      <td>+</td>\n",
       "      <td>-</td>\n",
       "      <td>195154279</td>\n",
       "      <td>CCAGCTAAATGTAGAGAAAAAAATTGTTAGACCGACTGATGCTCCT...</td>\n",
       "      <td>CCAGCTAAATGAAGGGAGAAAA-TTGTTAGGTCTACTGATGCTCCT...</td>\n",
       "    </tr>\n",
       "    <tr>\n",
       "      <th>150</th>\n",
       "      <td>41</td>\n",
       "      <td>1.000000e-02</td>\n",
       "      <td>1.800000e-06</td>\n",
       "      <td>6</td>\n",
       "      <td>84023575</td>\n",
       "      <td>3835</td>\n",
       "      <td>57</td>\n",
       "      <td>57</td>\n",
       "      <td>+</td>\n",
       "      <td>-</td>\n",
       "      <td>149588044</td>\n",
       "      <td>GTTGGGCCTTCTATAGCTGATGGAAGTCATGGATGAAGTCCGAATT...</td>\n",
       "      <td>GTAGGGCCTTCTATTGCTGATGGTAGTCATGGGTGGAGGCCAAATT...</td>\n",
       "    </tr>\n",
       "    <tr>\n",
       "      <th>151</th>\n",
       "      <td>41</td>\n",
       "      <td>1.000000e-02</td>\n",
       "      <td>1.800000e-06</td>\n",
       "      <td>11</td>\n",
       "      <td>48196043</td>\n",
       "      <td>3006</td>\n",
       "      <td>77</td>\n",
       "      <td>77</td>\n",
       "      <td>+</td>\n",
       "      <td>-</td>\n",
       "      <td>121973369</td>\n",
       "      <td>ATTTGTTTTGTCTGTGGAAAATTTTATAGTTAGGTTGCTTAGTTCT...</td>\n",
       "      <td>ATTTGCTTTATTTATTGATAGTTTTATGGTTAGGTTGTTTAGTTCT...</td>\n",
       "    </tr>\n",
       "    <tr>\n",
       "      <th>152</th>\n",
       "      <td>38</td>\n",
       "      <td>2.700000e-01</td>\n",
       "      <td>4.700000e-05</td>\n",
       "      <td>8</td>\n",
       "      <td>39205647</td>\n",
       "      <td>4186</td>\n",
       "      <td>66</td>\n",
       "      <td>66</td>\n",
       "      <td>+</td>\n",
       "      <td>-</td>\n",
       "      <td>130127694</td>\n",
       "      <td>AATAGTATTAGATATTTAATAAATCAGTTAATATGTAGGTCTGAGT...</td>\n",
       "      <td>AATAGTGTAAGATATTTAATGAATCGATTGATGTTTGGGTCTGAGT...</td>\n",
       "    </tr>\n",
       "    <tr>\n",
       "      <th>153</th>\n",
       "      <td>38</td>\n",
       "      <td>2.700000e-01</td>\n",
       "      <td>4.700000e-05</td>\n",
       "      <td>15</td>\n",
       "      <td>57354615</td>\n",
       "      <td>16249</td>\n",
       "      <td>50</td>\n",
       "      <td>50</td>\n",
       "      <td>+</td>\n",
       "      <td>-</td>\n",
       "      <td>104073951</td>\n",
       "      <td>TCCATCTAAGCATTTTCAGTGTTGTGCTTTATAATTAAACTACATT...</td>\n",
       "      <td>TCCATCTAAGCATTTTCAGTGCTTTGCTTTGTTATTAAGCTACATT...</td>\n",
       "    </tr>\n",
       "  </tbody>\n",
       "</table>\n",
       "<p>154 rows × 13 columns</p>\n",
       "</div>"
      ],
      "text/plain": [
       "     score      eg2_value        e_value g_id   g_start  mt_start  g_length  \\\n",
       "0    16298   0.000000e+00   0.000000e+00   MT         0         0     16298   \n",
       "1     2464   0.000000e+00   0.000000e+00    4  79920566     12487      2871   \n",
       "2      731   0.000000e+00   0.000000e+00    5  84766087      4846      1588   \n",
       "3      695   0.000000e+00   0.000000e+00    4   9958624      3198      1326   \n",
       "4      618  2.300000e-277  3.800000e-281    5   7326298     14714      1002   \n",
       "..     ...            ...            ...  ...       ...       ...       ...   \n",
       "149     41   1.000000e-02   1.800000e-06    1  38753807     10510        72   \n",
       "150     41   1.000000e-02   1.800000e-06    6  84023575      3835        57   \n",
       "151     41   1.000000e-02   1.800000e-06   11  48196043      3006        77   \n",
       "152     38   2.700000e-01   4.700000e-05    8  39205647      4186        66   \n",
       "153     38   2.700000e-01   4.700000e-05   15  57354615     16249        50   \n",
       "\n",
       "     mt_length g_strand mt_strand     g_size  \\\n",
       "0        16298        +         +      16299   \n",
       "1         2869        +         +  156860686   \n",
       "2         1594        +         +  151758149   \n",
       "3         1316        +         +  156860686   \n",
       "4         1000        +         +  151758149   \n",
       "..         ...      ...       ...        ...   \n",
       "149         71        +         -  195154279   \n",
       "150         57        +         -  149588044   \n",
       "151         77        +         -  121973369   \n",
       "152         66        +         -  130127694   \n",
       "153         50        +         -  104073951   \n",
       "\n",
       "                                            g_sequence  \\\n",
       "0    GTTAATGTAGCTTAATAACAAAGCAAAGCACTGAAAATGCTTAGAT...   \n",
       "1    AAGTACAATAGTAGTTGCAGGAATCTTTCTACTGGTCCGATTTCAC...   \n",
       "2    AAAATAATTACCCACCACACATGCTTCAAAAATAACTTTATCCTTc...   \n",
       "3    TTATATCAGTCCTATTAATAAGCAGGTCACTTTCTCTACAAATATG...   \n",
       "4    GCCATAGTAATTTTTCATCTCCTTTTTCCTTCACAAAACAGGATCA...   \n",
       "..                                                 ...   \n",
       "149  CCAGCTAAATGTAGAGAAAAAAATTGTTAGACCGACTGATGCTCCT...   \n",
       "150  GTTGGGCCTTCTATAGCTGATGGAAGTCATGGATGAAGTCCGAATT...   \n",
       "151  ATTTGTTTTGTCTGTGGAAAATTTTATAGTTAGGTTGCTTAGTTCT...   \n",
       "152  AATAGTATTAGATATTTAATAAATCAGTTAATATGTAGGTCTGAGT...   \n",
       "153  TCCATCTAAGCATTTTCAGTGTTGTGCTTTATAATTAAACTACATT...   \n",
       "\n",
       "                                           mt_sequence  \n",
       "0    GTTAATGTAGCTTAATAACAAAGCAAAGCACTGAAAATGCTTAGAT...  \n",
       "1    AAGTACAATAGTAGTTGCAGGAATTTTCCTACTGGTCCGATTCCAC...  \n",
       "2    AAAataataactcaCCAAACAAAAACTAAACCCAACCTAATATTTT...  \n",
       "3    TTTTATCAGTTCTATTAATAAATGGATCCTACTCTCTACAAACACT...  \n",
       "4    GCCCTAGCAATCGTTCACCTCCTCTT-CCTCCACGAAACAGGATCA...  \n",
       "..                                                 ...  \n",
       "149  CCAGCTAAATGAAGGGAGAAAA-TTGTTAGGTCTACTGATGCTCCT...  \n",
       "150  GTAGGGCCTTCTATTGCTGATGGTAGTCATGGGTGGAGGCCAAATT...  \n",
       "151  ATTTGCTTTATTTATTGATAGTTTTATGGTTAGGTTGTTTAGTTCT...  \n",
       "152  AATAGTGTAAGATATTTAATGAATCGATTGATGTTTGGGTCTGAGT...  \n",
       "153  TCCATCTAAGCATTTTCAGTGCTTTGCTTTGTTATTAAGCTACATT...  \n",
       "\n",
       "[154 rows x 13 columns]"
      ]
     },
     "execution_count": 6,
     "metadata": {},
     "output_type": "execute_result"
    }
   ],
   "source": [
    "dfs['Mus_musculus_numts']"
   ]
  },
  {
   "cell_type": "code",
   "execution_count": 22,
   "id": "40ca191c",
   "metadata": {},
   "outputs": [
    {
     "data": {
      "text/plain": [
       "Mus_musculus_lpj_numts           None\n",
       "Mus_musculus_c3hhej_numts        None\n",
       "Mus_musculus_balbcj_numts        None\n",
       "Mus_musculus_aj_numts            None\n",
       "Mus_musculus_casteij_numts       None\n",
       "Mus_musculus_nodshiltj_numts     None\n",
       "Mus_musculus_akrj_numts          None\n",
       "Mus_musculus_wsbeij_numts        None\n",
       "Mus_musculus_dba2j_numts         None\n",
       "Mus_musculus_129s1svimj_numts    None\n",
       "Mus_musculus_pwkphj_numts        None\n",
       "Mus_musculus_numts               None\n",
       "Mus_musculus_cbaj_numts          None\n",
       "Mus_musculus_nzohlltj_numts      None\n",
       "Mus_musculus_fvbnj_numts         None\n",
       "Mus_musculus_c57bl6nj_numts      None\n",
       "Mus_musculus_spreteij_numts      None\n",
       "dtype: object"
      ]
     },
     "execution_count": 22,
     "metadata": {},
     "output_type": "execute_result"
    }
   ],
   "source": [
    "def add_strain(df):\n",
    "    global strain_counter\n",
    "    df['strain']=len(df)*[dfs.index.values[strain_counter][:-6]]\n",
    "    strain_counter+=1\n",
    "\n",
    "strain_counter=0\n",
    "dfs.apply(add_strain)"
   ]
  },
  {
   "cell_type": "code",
   "execution_count": 95,
   "id": "271848fd",
   "metadata": {},
   "outputs": [],
   "source": [
    "dfs=dfs.apply(lambda df:df.sort_values(by='mt_start'))"
   ]
  },
  {
   "cell_type": "code",
   "execution_count": 160,
   "id": "f774c9d6",
   "metadata": {},
   "outputs": [
    {
     "data": {
      "text/plain": [
       "Mus_musculus_casteij_numts         score     eg2_value       e_value g_id   g...\n",
       "Mus_musculus_wsbeij_numts          score     eg2_value       e_value g_id   g...\n",
       "Mus_musculus_pwkphj_numts          score     eg2_value       e_value g_id   g...\n",
       "Mus_musculus_numts                 score     eg2_value       e_value g_id   g...\n",
       "Mus_musculus_spreteij_numts        score     eg2_value       e_value g_id   g...\n",
       "dtype: object"
      ]
     },
     "execution_count": 160,
     "metadata": {},
     "output_type": "execute_result"
    }
   ],
   "source": [
    "def get_cob_pseudogenes(df):\n",
    "    v1=df[df['mt_start']>14000]\n",
    "    v2=v1[v1['mt_start']<15000]\n",
    "    return(v2.loc[v2['g_id']=='1'])\n",
    "\n",
    "cob_pseudogenes=dfs.apply(get_cob_pseudogenes)\n",
    "cob_pseudogenes=cob_pseudogenes.drop(labels=['Mus_musculus_lpj_numts','Mus_musculus_c3hhej_numts','Mus_musculus_balbcj_numts',\n",
    "                                           'Mus_musculus_aj_numts','Mus_musculus_nodshiltj_numts','Mus_musculus_akrj_numts',\n",
    "                                           'Mus_musculus_dba2j_numts','Mus_musculus_129s1svimj_numts','Mus_musculus_cbaj_numts',\n",
    "                                           'Mus_musculus_nzohlltj_numts','Mus_musculus_fvbnj_numts','Mus_musculus_c57bl6nj_numts'])\n",
    "cob_pseudogenes"
   ]
  },
  {
   "cell_type": "code",
   "execution_count": 183,
   "id": "74a90d04",
   "metadata": {},
   "outputs": [
    {
     "data": {
      "text/plain": [
       "Mus_musculus_casteij_numts     None\n",
       "Mus_musculus_wsbeij_numts      None\n",
       "Mus_musculus_pwkphj_numts      None\n",
       "Mus_musculus_numts             None\n",
       "Mus_musculus_spreteij_numts    None\n",
       "dtype: object"
      ]
     },
     "execution_count": 183,
     "metadata": {},
     "output_type": "execute_result"
    }
   ],
   "source": [
    "def get_pseudogene_sequences(df):\n",
    "    global cob_pseudogene_sequences\n",
    "    cob_pseudogene_sequences.append(df['g_sequence'].tolist()[0].upper().replace('-',''))\n",
    "cob_pseudogene_sequences=[]\n",
    "cob_pseudogenes.apply(get_pseudogene_sequences)"
   ]
  },
  {
   "cell_type": "code",
   "execution_count": 185,
   "id": "84f864ff",
   "metadata": {},
   "outputs": [
    {
     "data": {
      "text/plain": [
       "Mus_musculus_casteij_numts     GGATTAGATTCTGATGCAAATAAAATTCCATTTCACCCCTACTACA...\n",
       "Mus_musculus_wsbeij_numts      GGATTAGATTCTGATGCAAATAAAATTCCATTTCACCCCTACTACA...\n",
       "Mus_musculus_pwkphj_numts      GGATTAGATTCTGATGCAAATAAAATTCCATTTCACCCCTACTACA...\n",
       "Mus_musculus_numts             GGATTAGATTCTGATGCAAATAAAATTCCATTTCACCCCTACTACA...\n",
       "Mus_musculus_spreteij_numts    GGATTAGATTCTGATGCAAATAAAATTCCATTTCACTCCTACTACA...\n",
       "dtype: object"
      ]
     },
     "execution_count": 185,
     "metadata": {},
     "output_type": "execute_result"
    }
   ],
   "source": [
    "cob_pseudogene_sequences=pd.Series(cob_pseudogene_sequences)\n",
    "cob_pseudogene_sequences.index=cob_pseudogenes.index.values\n",
    "cob_pseudogene_sequences"
   ]
  },
  {
   "cell_type": "code",
   "execution_count": 186,
   "id": "5e7f7899",
   "metadata": {},
   "outputs": [
    {
     "data": {
      "text/plain": [
       "'GGATTAGATTCTGATGCAAATAAAATTCCATTTCACCCCTACTACACTATCAAAGGAATCATAGGCCTCTTCTTTTTATTCTTTTATCCCCATAATCTTAATCTTATTTCCCCCTCATTGCTTAGGAGACCCTGACCATTATACTCCAGGCAGACTATTCAACCACTCCCCACATTAAACCTGAGTAATATTTCCTATTGCCTCCACTATCTTCCATCTCTCCCCATCAAACTAGAAGGTGTGGTAGCTTGGTCCTCTCAATTCTCACCTTGACTTTCCTTCCATTTCCTCCCCATCTCAAAACAACGCAGTCTCACATCCCATCCACTCACCCAGTCCCTATACTGAATCCTGGTTGCTGATCTACTCATCCTCACATGAACTGGTGGGCAACCAACAGAACCCCCATTCATTACTATTGGCCAATTACACTCCATTATTTCTTTCTCTGTTTTCCTAATTTTAATACCTATTTCTGGCCTATTGAAAATAAAATGTTTAAATGGACTCAAAGTCCCAGCAGACTAAATACTTCAGTCTTGTAAACTAAAAGTGAATAACTAATTTTATTAGGACATCAAGGAAGAAGGCCCTCCACTGTCAACACCCAAAGCTGATATTCTCCTCAAACTACT'"
      ]
     },
     "execution_count": 186,
     "metadata": {},
     "output_type": "execute_result"
    }
   ],
   "source": [
    "cob_pseudogene_sequences['Mus_musculus_numts']"
   ]
  },
  {
   "cell_type": "code",
   "execution_count": 197,
   "id": "393c1991",
   "metadata": {},
   "outputs": [
    {
     "data": {
      "text/plain": [
       "'GGATTAGATTCTGATGCAAATAAAATTCCATTTCACTCCTACTACACTATCAAAGGTATCATAGGCCTCTTATTTTTATTCTTTTATCCCCATAATCTTAGTCTTATTTCCCCCTCATTGCTTAGGAGACCCTGACCATTACACTCCAGGCAACCCCTCCCCACATTAAACCTGAGTAATATTTCCTATTGCCTACACTATCTTCCATCTCTCCCCATCAAACTAGAAGGTGTGGTAGCTTGATCCTCTCAATTCTCACCTTGCCTTTCCTTCCATTTCCTCCCCATCTCAAAACAACGCAGTCTCACATCCCATCCACTCACCCAGTCCCTATACTTAATCCTGGTTGCTGATCTACTCATCCTCACATGAACTGGTGGGCAACCCACAGAACCCCCATTCATTATTATTGGCCAATTACACTCCATTATTTCTTTCTCTGTTTTCCTCATTTTAATACCTATTTCTGGTATTGAAAATAAAATGTTTAAATGGACTCAAAGTCCCAGCAGACTAAATACTTCAGTCTTGTAAATTAGAAGTGAATAACTAATTTTATTAGGACATTAAGGAAGAAGGCCCTCCACTGTCAGCACCCAAAGCTGATATTCTCCTCAAGCTACT'"
      ]
     },
     "execution_count": 197,
     "metadata": {},
     "output_type": "execute_result"
    }
   ],
   "source": [
    "cob_pseudogene_sequences['Mus_musculus_spreteij_numts']"
   ]
  },
  {
   "cell_type": "code",
   "execution_count": 124,
   "id": "5613d792",
   "metadata": {},
   "outputs": [
    {
     "data": {
      "text/plain": [
       "Mus_musculus_numts                  score      eg2_value        e_value g_id ...\n",
       "Mus_musculus_casteij_numts          score      eg2_value        e_value g_id ...\n",
       "Mus_musculus_pwkphj_numts           score      eg2_value        e_value g_id ...\n",
       "Mus_musculus_spreteij_numts         score      eg2_value        e_value g_id ...\n",
       "Mus_musculus_wsbeij_numts           score      eg2_value        e_value g_id ...\n",
       "dtype: object"
      ]
     },
     "execution_count": 124,
     "metadata": {},
     "output_type": "execute_result"
    }
   ],
   "source": [
    "wild_derived=pd.Series(['Mus_musculus_numts','Mus_musculus_casteij_numts','Mus_musculus_pwkphj_numts',\n",
    "              'Mus_musculus_spreteij_numts','Mus_musculus_wsbeij_numts'])\n",
    "wild_derived_cobs=wild_derived.apply(lambda strain: dfs[strain])\n",
    "wild_derived_cobs.index=wild_derived\n",
    "wild_derived_cobs"
   ]
  },
  {
   "cell_type": "code",
   "execution_count": null,
   "id": "987501be",
   "metadata": {},
   "outputs": [],
   "source": []
  },
  {
   "cell_type": "code",
   "execution_count": 70,
   "id": "e05b19ff",
   "metadata": {},
   "outputs": [
    {
     "data": {
      "text/plain": [
       "cbaj                      0      1      2           3       ...\n",
       "aj                        0      1      2           3       ...\n",
       "mm                 0      1      2           3             4...\n",
       "nzohlltj                  0      1      2           3       ...\n",
       "akrj                      0      1      2           3       ...\n",
       "pwkphj                    0      1      2           3       ...\n",
       "129s1svimj                0      1      2           3       ...\n",
       "c57bl6nj                  0      1      2           3       ...\n",
       "lpj                       0      1      2           3       ...\n",
       "nodshiltj                 0      1      2           3       ...\n",
       "balbcj                    0      1      2           3       ...\n",
       "casteij                   0      1      2           3       ...\n",
       "dba2j                     0      1      2           3       ...\n",
       "c3hhej                    0      1      2           3       ...\n",
       "fvbnj                     0      1      2           3       ...\n",
       "wsbeij                    0      1      2           3       ...\n",
       "spretus                   0      1      2           3       ...\n",
       "dtype: object"
      ]
     },
     "execution_count": 70,
     "metadata": {},
     "output_type": "execute_result"
    }
   ],
   "source": [
    "def get_mitos_dfs(filename):\n",
    "    try:\n",
    "        df=pd.read_csv(f'/Volumes/motilin/balint/numt/mice_strains_numt/mt_annotations/{filename}',sep='\\t',\n",
    "                       header=None)\n",
    "        return(df)\n",
    "    except:\n",
    "        return(np.nan)\n",
    "    \n",
    "mitos_dfs=pd.Series(os.listdir('/Volumes/motilin/balint/numt/mice_strains_numt/mt_annotations/')).apply(get_mitos_dfs)\n",
    "mitos_dfs.index=pd.Series(os.listdir('/Volumes/motilin/balint/numt/mice_strains_numt/mt_annotations/')).apply(\n",
    "    lambda filename: filename.split('.')[0])\n",
    "mitos_dfs=mitos_dfs.dropna()\n",
    "mitos_dfs"
   ]
  },
  {
   "cell_type": "code",
   "execution_count": 132,
   "id": "ae59a5af",
   "metadata": {},
   "outputs": [
    {
     "data": {
      "text/plain": [
       "mm              0      1      2           3             4...\n",
       "casteij                0      1      2           3       ...\n",
       "pwkphj                 0      1      2           3       ...\n",
       "spretus                0      1      2           3       ...\n",
       "wsbeij                 0      1      2           3       ...\n",
       "dtype: object"
      ]
     },
     "execution_count": 132,
     "metadata": {},
     "output_type": "execute_result"
    }
   ],
   "source": [
    "wild_derived=pd.Series(['mm','casteij','pwkphj','spretus','wsbeij'])\n",
    "wild_derived_mitos=wild_derived.apply(lambda strain:mitos_dfs[strain])\n",
    "wild_derived_mitos.index=wild_derived\n",
    "wild_derived_mitos"
   ]
  },
  {
   "cell_type": "code",
   "execution_count": 141,
   "id": "3ea27529",
   "metadata": {},
   "outputs": [
    {
     "data": {
      "text/html": [
       "<div>\n",
       "<style scoped>\n",
       "    .dataframe tbody tr th:only-of-type {\n",
       "        vertical-align: middle;\n",
       "    }\n",
       "\n",
       "    .dataframe tbody tr th {\n",
       "        vertical-align: top;\n",
       "    }\n",
       "\n",
       "    .dataframe thead th {\n",
       "        text-align: right;\n",
       "    }\n",
       "</style>\n",
       "<table border=\"1\" class=\"dataframe\">\n",
       "  <thead>\n",
       "    <tr style=\"text-align: right;\">\n",
       "      <th></th>\n",
       "      <th>0</th>\n",
       "      <th>1</th>\n",
       "      <th>2</th>\n",
       "      <th>3</th>\n",
       "      <th>4</th>\n",
       "      <th>5</th>\n",
       "    </tr>\n",
       "  </thead>\n",
       "  <tbody>\n",
       "    <tr>\n",
       "      <th>34</th>\n",
       "      <td>MT</td>\n",
       "      <td>14144</td>\n",
       "      <td>15275</td>\n",
       "      <td>cob</td>\n",
       "      <td>242474318.6</td>\n",
       "      <td>+</td>\n",
       "    </tr>\n",
       "  </tbody>\n",
       "</table>\n",
       "</div>"
      ],
      "text/plain": [
       "     0      1      2    3            4  5\n",
       "34  MT  14144  15275  cob  242474318.6  +"
      ]
     },
     "execution_count": 141,
     "metadata": {},
     "output_type": "execute_result"
    }
   ],
   "source": [
    "wild_derived_mitos.apply(lambda df:df.loc[df[3]=='cob'])['mm']"
   ]
  },
  {
   "cell_type": "code",
   "execution_count": null,
   "id": "1ed620f7",
   "metadata": {},
   "outputs": [],
   "source": []
  }
 ],
 "metadata": {
  "kernelspec": {
   "display_name": "Python 3 (ipykernel)",
   "language": "python",
   "name": "python3"
  },
  "language_info": {
   "codemirror_mode": {
    "name": "ipython",
    "version": 3
   },
   "file_extension": ".py",
   "mimetype": "text/x-python",
   "name": "python",
   "nbconvert_exporter": "python",
   "pygments_lexer": "ipython3",
   "version": "3.9.7"
  }
 },
 "nbformat": 4,
 "nbformat_minor": 5
}
