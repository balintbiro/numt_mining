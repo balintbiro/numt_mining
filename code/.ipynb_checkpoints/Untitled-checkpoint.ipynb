{
 "cells": [
  {
   "cell_type": "code",
   "execution_count": 6,
   "id": "a9728684",
   "metadata": {},
   "outputs": [],
   "source": [
    "import os\n",
    "import numpy as np\n",
    "import pandas as pd"
   ]
  },
  {
   "cell_type": "code",
   "execution_count": 8,
   "id": "aa5fb123",
   "metadata": {},
   "outputs": [
    {
     "data": {
      "text/plain": [
       "cbaj                     mt  start    end   gene_name  signi...\n",
       "aj                       mt  start    end   gene_name  signi...\n",
       "mm                mt  start    end   gene_name  significance...\n",
       "nzohlltj                 mt  start    end   gene_name  signi...\n",
       "akrj                     mt  start    end   gene_name  signi...\n",
       "pwkphj                   mt  start    end   gene_name  signi...\n",
       "129s1svimj               mt  start    end   gene_name  signi...\n",
       "c57bl6nj                 mt  start    end   gene_name  signi...\n",
       "lpj                      mt  start    end   gene_name  signi...\n",
       "nodshiltj                mt  start    end   gene_name  signi...\n",
       "balbcj                   mt  start    end   gene_name  signi...\n",
       "casteij                  mt  start    end   gene_name  signi...\n",
       "dba2j                    mt  start    end   gene_name  signi...\n",
       "c3hhej                   mt  start    end   gene_name  signi...\n",
       "fvbnj                    mt  start    end   gene_name  signi...\n",
       "wsbeij                   mt  start    end   gene_name  signi...\n",
       "spretus                  mt  start    end   gene_name  signi...\n",
       "dtype: object"
      ]
     },
     "execution_count": 8,
     "metadata": {},
     "output_type": "execute_result"
    }
   ],
   "source": [
    "#get MITOS annotations\n",
    "def get_mitos_dfs(filename):\n",
    "    try:\n",
    "        df=pd.read_csv(f'/Volumes/motilin/balint/numt/mice_strains_numt/mt_annotations/{filename}',sep='\\t',\n",
    "                       header=None)\n",
    "        df.columns=['mt','start','end','gene_name','significance','strand']\n",
    "        return(df)\n",
    "    except:\n",
    "        return(np.nan)\n",
    "    \n",
    "mitos_dfs=pd.Series(os.listdir('/Volumes/motilin/balint/numt/mice_strains_numt/mt_annotations/')).apply(get_mitos_dfs)\n",
    "mitos_dfs.index=pd.Series(os.listdir('/Volumes/motilin/balint/numt/mice_strains_numt/mt_annotations/')).apply(\n",
    "    lambda filename: filename.split('.')[0])\n",
    "mitos_dfs=mitos_dfs.dropna()\n",
    "mitos_dfs"
   ]
  },
  {
   "cell_type": "code",
   "execution_count": 40,
   "id": "90e20a27",
   "metadata": {},
   "outputs": [
    {
     "data": {
      "text/plain": [
       "cbaj          [14145, 15277]\n",
       "aj            [14145, 15277]\n",
       "mm            [14144, 15276]\n",
       "nzohlltj      [14147, 15279]\n",
       "akrj          [14146, 15278]\n",
       "pwkphj        [14148, 15280]\n",
       "129s1svimj    [14145, 15277]\n",
       "c57bl6nj      [14145, 15277]\n",
       "lpj           [14146, 15278]\n",
       "nodshiltj     [14146, 15278]\n",
       "balbcj        [14145, 15277]\n",
       "casteij       [14145, 15277]\n",
       "dba2j         [14145, 15277]\n",
       "c3hhej        [14146, 15278]\n",
       "fvbnj         [14145, 15277]\n",
       "wsbeij        [14146, 15278]\n",
       "spretus       [14144, 15276]\n",
       "dtype: object"
      ]
     },
     "execution_count": 40,
     "metadata": {},
     "output_type": "execute_result"
    }
   ],
   "source": [
    "def get_cob(df):\n",
    "    row=df.loc[df['gene_name']=='cob']\n",
    "    return [row['start'].tolist()[0],row['end'].tolist()[0]+1]\n",
    "\n",
    "cob_ranges=mitos_dfs.apply(get_cob)\n",
    "cob_ranges"
   ]
  },
  {
   "cell_type": "code",
   "execution_count": 33,
   "id": "8feefa21",
   "metadata": {},
   "outputs": [
    {
     "data": {
      "text/plain": [
       "cbaj          GTTAATGTAGCTTAATAACAAAGCAAAGCACTGAAAATGCTTAGAT...\n",
       "aj            GTTAATGTAGCTTAATAACAAAGCAAAGCACTGAAAATGCTTAGAT...\n",
       "mm            GTTAATGTAGCTTAATAACAAAGCAAAGCACTGAAAATGCTTAGAT...\n",
       "nzohlltj      GTTAATGTAGCTTAATAACAAAGCAAAGCACTGAAAATGCTTAGAT...\n",
       "akrj          GTTAATGTAGCTTAATAACAAAGCAAAGCACTGAAAATGCTTAGAT...\n",
       "pwkphj        GTTAATGTAGCTTAATAACAAAGCAAAGCACTGAAAATGCTTAGAT...\n",
       "129s1svimj    GTTAATGTAGCTTAATAACAAAGCAAAGCACTGAAAATGCTTAGAT...\n",
       "c57bl6nj      GTTAATGTAGCTTAATAACAAAGCAAAGCACTGAAAATGCTTAGAT...\n",
       "lpj           GTTAATGTAGCTTAATAACAAAGCAAAGCACTGAAAATGCTTAGAT...\n",
       "nodshiltj     GTTAATGTAGCTTAATAACAAAGCAAAGCACTGAAAATGCTTAGAT...\n",
       "balbcj        GTTAATGTAGCTTAATAACAAAGCAAAGCACTGAAAATGCTTAGAT...\n",
       "casteij       GTTAATGTAGCTTAATAACAAAGCAAAGCACTGAAAATGCTTAGAT...\n",
       "dba2j         GTTAATGTAGCTTAATAACAAAGCAAAGCACTGAAAATGCTTAGAT...\n",
       "c3hhej        GTTAATGTAGCTTAATAACAAAGCAAAGCACTGAAAATGCTTAGAT...\n",
       "fvbnj         GTTAATGTAGCTTAATAACAAAGCAAAGCACTGAAAATGCTTAGAT...\n",
       "wsbeij        GTTAATGTAGCTTAATAACAAAGCAAAGCACTGAAAATGCTTAGAT...\n",
       "spretus       GTTAATGTAGCTTAATAACAAAGCAAAGCACTGAAAATGCTTAGAT...\n",
       "dtype: object"
      ]
     },
     "execution_count": 33,
     "metadata": {},
     "output_type": "execute_result"
    }
   ],
   "source": [
    "def read_fastas(strain):\n",
    "    if strain=='mm':\n",
    "        filename='Mus_musculus.fa'\n",
    "    elif strain=='spretus':\n",
    "        filename='Mus_musculus_spreteij.fa'\n",
    "    else:\n",
    "        filename=f'Mus_musculus_{strain}.fa'\n",
    "    sequence=''\n",
    "    with open(f'/Volumes/motilin/balint/numt/mice_strains_numt/mt_fastas/{filename}')as infile:\n",
    "        content=infile.readlines()\n",
    "        for line in content:\n",
    "            if '>' not in line:\n",
    "                sequence+=line.split()[0]\n",
    "    return sequence\n",
    "mt_sequences=pd.Series(mitos_dfs.index.values).apply(read_fastas)\n",
    "mt_sequences.index=mitos_dfs.index.values\n",
    "mt_sequences"
   ]
  },
  {
   "cell_type": "code",
   "execution_count": 42,
   "id": "2958f96b",
   "metadata": {},
   "outputs": [
    {
     "data": {
      "text/plain": [
       "cbaj          ATGACAAACATACGAAAAACACACCCATTATTTAAAATTATTAACC...\n",
       "aj            ATGACAAACATACGAAAAACACACCCATTATTTAAAATTATTAACC...\n",
       "mm            ATGACAAACATACGAAAAACACACCCATTATTTAAAATTATTAACC...\n",
       "nzohlltj      ATGACAAACATACGAAAAACACACCCATTATTTAAAATTATCAACC...\n",
       "akrj          ATGACAAACATACGAAAAACACACCCATTATTTAAAATTATTAACC...\n",
       "pwkphj        ATGACAAACATACGAAAAACACACCCATTATTTAAAATTATTAACC...\n",
       "129s1svimj    ATGACAAACATACGAAAAACACACCCATTATTTAAAATTATTAACC...\n",
       "c57bl6nj      ATGACAAACATACGAAAAACACACCCATTATTTAAAATTATTAACC...\n",
       "lpj           ATGACAAACATACGAAAAACACACCCATTATTTAAAATTATTAACC...\n",
       "nodshiltj     ATGACAAACATACGAAAAACACACCCATTATTTAAAATTATTAACC...\n",
       "balbcj        ATGACAAACATACGAAAAACACACCCATTATTTAAAATTATTAACC...\n",
       "casteij       ATGACAAACATACGAAAAACACATCCATTATTTAAAATTATTAACC...\n",
       "dba2j         ATGACAAACATACGAAAAACACACCCATTATTTAAAATTATTAACC...\n",
       "c3hhej        ATGACAAACATACGAAAAACACACCCATTATTTAAAATTATTAACC...\n",
       "fvbnj         ATGACAAACATACGAAAAACACACCCATTATTTAAAATTATTAACC...\n",
       "wsbeij        ATGACAAACATACGAAAAACACACCCATTATTTAAAATTATTAACC...\n",
       "spretus       ATGACAAACATGCGGAAAACACACCCATTATTTAAAATTATTAATC...\n",
       "dtype: object"
      ]
     },
     "execution_count": 42,
     "metadata": {},
     "output_type": "execute_result"
    }
   ],
   "source": [
    "def get_cob_sequence(strain):\n",
    "    cob_range=cob_ranges[strain]\n",
    "    mt_sequence=mt_sequences[strain]\n",
    "    cob_sequence=mt_sequence[cob_range[0]:cob_range[1]]\n",
    "    return cob_sequence\n",
    "\n",
    "cob_sequences=pd.Series(mitos_dfs.index.values).apply(get_cob_sequence)\n",
    "cob_sequences.index=mitos_dfs.index.values\n",
    "cob_sequences"
   ]
  },
  {
   "cell_type": "code",
   "execution_count": 47,
   "id": "f91365f3",
   "metadata": {},
   "outputs": [
    {
     "name": "stdout",
     "output_type": "stream",
     "text": [
      "._Mus_musculus_fvbnj_numts.csv\n"
     ]
    },
    {
     "data": {
      "text/plain": [
       "Mus_musculus_lpj_numts                score      eg2_value        e_value g_id ...\n",
       "Mus_musculus_c3hhej_numts             score      eg2_value        e_value g_id ...\n",
       "Mus_musculus_balbcj_numts             score      eg2_value        e_value g_id ...\n",
       "Mus_musculus_aj_numts                 score  eg2_value   e_value g_id   g_start...\n",
       "Mus_musculus_casteij_numts            score      eg2_value        e_value g_id ...\n",
       "Mus_musculus_nodshiltj_numts          score      eg2_value        e_value g_id ...\n",
       "Mus_musculus_akrj_numts               score      eg2_value        e_value g_id ...\n",
       "Mus_musculus_wsbeij_numts             score      eg2_value        e_value g_id ...\n",
       "Mus_musculus_dba2j_numts              score      eg2_value        e_value g_id ...\n",
       "Mus_musculus_129s1svimj_numts         score      eg2_value        e_value g_id ...\n",
       "Mus_musculus_pwkphj_numts             score      eg2_value        e_value g_id ...\n",
       "Mus_musculus_numts                    score      eg2_value        e_value g_id ...\n",
       "Mus_musculus_cbaj_numts               score      eg2_value        e_value g_id ...\n",
       "Mus_musculus_nzohlltj_numts           score      eg2_value        e_value g_id ...\n",
       "Mus_musculus_fvbnj_numts              score      eg2_value        e_value g_id ...\n",
       "Mus_musculus_c57bl6nj_numts           score      eg2_value        e_value g_id ...\n",
       "Mus_musculus_spreteij_numts           score      eg2_value        e_value g_id ...\n",
       "dtype: object"
      ]
     },
     "execution_count": 47,
     "metadata": {},
     "output_type": "execute_result"
    }
   ],
   "source": [
    "#read in the numts csv files\n",
    "parent_dir=os.path.join('/Volumes/motilin/balint/numt/mice_strains_numt/csvs/')\n",
    "numts=pd.Series(os.listdir('/Volumes/motilin/balint/numt/mice_strains_numt/csvs/')).apply(\n",
    "lambda filename: pd.read_csv(parent_dir+filename) if filename.count('.')==1 else print(filename))\n",
    "numts.index=pd.Series(os.listdir('/Volumes/motilin/balint/numt/mice_strains_numt/csvs/')).apply(\n",
    "    lambda filename:filename[:-4])\n",
    "numts=numts.drop(labels=['._Mus_musculus_fvbnj_numts'])\n",
    "numts"
   ]
  },
  {
   "cell_type": "code",
   "execution_count": 67,
   "id": "3db34b0e",
   "metadata": {},
   "outputs": [
    {
     "data": {
      "text/plain": [
       "lpj                score      eg2_value        e_value g_id ...\n",
       "c3hhej             score      eg2_value        e_value g_id ...\n",
       "balbcj             score      eg2_value        e_value g_id ...\n",
       "aj                 score      eg2_value        e_value g_id ...\n",
       "casteij            score     eg2_value       e_value g_id   ...\n",
       "nodshiltj          score      eg2_value        e_value g_id ...\n",
       "akrj               score      eg2_value        e_value g_id ...\n",
       "wsbeij             score      eg2_value        e_value g_id ...\n",
       "dba2j              score      eg2_value        e_value g_id ...\n",
       "129s1svimj         score      eg2_value        e_value g_id ...\n",
       "pwkphj             score     eg2_value       e_value g_id   ...\n",
       "mm                 score      eg2_value        e_value g_id ...\n",
       "cbaj               score     eg2_value       e_value g_id   ...\n",
       "nzohlltj           score     eg2_value        e_value g_id  ...\n",
       "fvbnj              score      eg2_value        e_value g_id ...\n",
       "c57bl6nj           score      eg2_value        e_value g_id ...\n",
       "spretus            score     eg2_value       e_value g_id   ...\n",
       "dtype: object"
      ]
     },
     "execution_count": 67,
     "metadata": {},
     "output_type": "execute_result"
    }
   ],
   "source": [
    "def get_cob_pseudogenes(df):\n",
    "    global numt_indexer\n",
    "    global uniform_indices\n",
    "    strain=numts.index.values[numt_indexer]\n",
    "    if strain=='Mus_musculus_numts':\n",
    "        strain='mm'\n",
    "    elif strain=='Mus_musculus_spreteij_numts':\n",
    "        strain='spretus'\n",
    "    else:\n",
    "        strain=strain.split('_')[2]\n",
    "    cob_range=cob_ranges[strain]\n",
    "    subdf=df.loc[df['mt_start']>cob_range[0]]\n",
    "    subdf=subdf.loc[(subdf['mt_start']+subdf['mt_length'])<cob_range[1]]\n",
    "    numt_indexer+=1\n",
    "    uniform_indices.append(strain)\n",
    "    return subdf\n",
    "numt_indexer=0\n",
    "uniform_indices=[]\n",
    "cob_pseudogenes=numts.apply(get_cob_pseudogenes)\n",
    "cob_pseudogenes.index=uniform_indices\n",
    "cob_pseudogenes"
   ]
  },
  {
   "cell_type": "code",
   "execution_count": 68,
   "id": "38589fbf",
   "metadata": {},
   "outputs": [
    {
     "data": {
      "text/plain": [
       "lpj                        [15, 6, 6, 10, 16]\n",
       "c3hhej                        [15, 6, 10, 16]\n",
       "balbcj                     [15, 6, X, 10, 16]\n",
       "aj                      [4, X, 15, 6, 10, 16]\n",
       "casteij                       [17, 15, 6, 16]\n",
       "nodshiltj               [5, X, 15, 6, 10, 16]\n",
       "akrj                    [X, X, 15, 6, 10, 16]\n",
       "wsbeij                 [15, 6, 6, 10, 10, 16]\n",
       "dba2j                      [15, 6, 6, 10, 16]\n",
       "129s1svimj              [X, 15, 6, 6, 10, 16]\n",
       "pwkphj                            [15, 6, 16]\n",
       "mm                         [X, 15, 6, 10, 16]\n",
       "cbaj              [X, X, 15, 6, X, 6, 10, 16]\n",
       "nzohlltj      [X, X, 15, 6, X, 6, 10, 10, 16]\n",
       "fvbnj                         [15, 6, 10, 16]\n",
       "c57bl6nj                    [15, 6, 2, 2, 16]\n",
       "spretus                 [15, 5, 5, 6, 15, 16]\n",
       "dtype: object"
      ]
     },
     "execution_count": 68,
     "metadata": {},
     "output_type": "execute_result"
    }
   ],
   "source": [
    "cob_pseudogenes.apply(lambda df: df['g_id'].tolist())"
   ]
  },
  {
   "cell_type": "code",
   "execution_count": 76,
   "id": "29316bdd",
   "metadata": {},
   "outputs": [
    {
     "data": {
      "text/plain": [
       "lpj           16:12768898-12769051\n",
       "c3hhej        16:12894126-12894279\n",
       "balbcj        16:12446781-12446934\n",
       "aj            16:12286736-12286889\n",
       "casteij       16:12837364-12837517\n",
       "nodshiltj     16:13413028-13413181\n",
       "akrj          16:12797285-12797438\n",
       "wsbeij        16:12740123-12740276\n",
       "dba2j         16:12238097-12238250\n",
       "129s1svimj    16:12980920-12981073\n",
       "pwkphj        16:12491859-12491981\n",
       "mm            16:15703330-15703483\n",
       "cbaj          16:13728768-13728921\n",
       "nzohlltj      16:12741181-12741334\n",
       "fvbnj         16:12277145-12277298\n",
       "c57bl6nj      16:13138463-13138616\n",
       "spretus       16:12722733-12722855\n",
       "dtype: object"
      ]
     },
     "execution_count": 76,
     "metadata": {},
     "output_type": "execute_result"
    }
   ],
   "source": [
    "cob_pseudogenes.apply(lambda df: '16:'+str(df.loc[df['g_id']=='16']['g_start'].tolist()[0])+'-'+\n",
    "                                 str(df.loc[df['g_id']=='16']['g_start'].tolist()[0]+\n",
    "                                     df.loc[df['g_id']=='16']['g_length'].tolist()[0]))"
   ]
  },
  {
   "cell_type": "code",
   "execution_count": 81,
   "id": "c3e83e40",
   "metadata": {},
   "outputs": [],
   "source": [
    "def write_output(sequence,indices,prefix):\n",
    "    global indexer\n",
    "    with open('../phylogenetic_input.txt','a')as outfile:\n",
    "        outfile.write(f'>{indices[indexer]}_{prefix}\\n')\n",
    "        outfile.write(sequence)\n",
    "        outfile.write('\\n\\n')\n",
    "    indexer+=1"
   ]
  },
  {
   "cell_type": "code",
   "execution_count": 82,
   "id": "123aaffe",
   "metadata": {},
   "outputs": [
    {
     "data": {
      "text/plain": [
       "cbaj          None\n",
       "aj            None\n",
       "mm            None\n",
       "nzohlltj      None\n",
       "akrj          None\n",
       "pwkphj        None\n",
       "129s1svimj    None\n",
       "c57bl6nj      None\n",
       "lpj           None\n",
       "nodshiltj     None\n",
       "balbcj        None\n",
       "casteij       None\n",
       "dba2j         None\n",
       "c3hhej        None\n",
       "fvbnj         None\n",
       "wsbeij        None\n",
       "spretus       None\n",
       "dtype: object"
      ]
     },
     "execution_count": 82,
     "metadata": {},
     "output_type": "execute_result"
    }
   ],
   "source": [
    "indexer=0\n",
    "mt_sequences.apply(write_output,args=(mt_sequences.index.values,'mitochondrial_sequence'))"
   ]
  },
  {
   "cell_type": "code",
   "execution_count": 84,
   "id": "7548deee",
   "metadata": {},
   "outputs": [
    {
     "data": {
      "text/plain": [
       "cbaj          None\n",
       "aj            None\n",
       "mm            None\n",
       "nzohlltj      None\n",
       "akrj          None\n",
       "pwkphj        None\n",
       "129s1svimj    None\n",
       "c57bl6nj      None\n",
       "lpj           None\n",
       "nodshiltj     None\n",
       "balbcj        None\n",
       "casteij       None\n",
       "dba2j         None\n",
       "c3hhej        None\n",
       "fvbnj         None\n",
       "wsbeij        None\n",
       "spretus       None\n",
       "dtype: object"
      ]
     },
     "execution_count": 84,
     "metadata": {},
     "output_type": "execute_result"
    }
   ],
   "source": [
    "indexer=0\n",
    "cob_sequences.apply(write_output,args=(cob_sequences.index.values,'cob_sequence'))"
   ]
  },
  {
   "cell_type": "code",
   "execution_count": null,
   "id": "0e1a2180",
   "metadata": {},
   "outputs": [],
   "source": []
  }
 ],
 "metadata": {
  "kernelspec": {
   "display_name": "Python 3 (ipykernel)",
   "language": "python",
   "name": "python3"
  },
  "language_info": {
   "codemirror_mode": {
    "name": "ipython",
    "version": 3
   },
   "file_extension": ".py",
   "mimetype": "text/x-python",
   "name": "python",
   "nbconvert_exporter": "python",
   "pygments_lexer": "ipython3",
   "version": "3.9.7"
  }
 },
 "nbformat": 4,
 "nbformat_minor": 5
}
